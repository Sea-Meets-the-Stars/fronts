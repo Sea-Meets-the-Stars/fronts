{
 "cells": [
  {
   "cell_type": "markdown",
   "id": "a690671a-617b-4496-b135-e873c0b31538",
   "metadata": {},
   "source": [
    "# Geneate a Test Test Set"
   ]
  },
  {
   "cell_type": "code",
   "execution_count": 17,
   "id": "0e55b1a4-4011-476e-9087-b7b5ccdf2354",
   "metadata": {},
   "outputs": [],
   "source": [
    "# imports\n",
    "import numpy as np\n",
    "\n",
    "import seaborn as sns\n",
    "from matplotlib import pyplot as plt\n",
    "\n",
    "from fronts import io as fronts_io\n",
    "from fronts.dbof import io as dbof_io\n",
    "from fronts.train import tables as ttables"
   ]
  },
  {
   "cell_type": "markdown",
   "id": "af7ba090-f060-45a4-9727-1948258e4dea",
   "metadata": {},
   "source": [
    "# Load up DBOF"
   ]
  },
  {
   "cell_type": "code",
   "execution_count": 7,
   "id": "73772ed4-64a7-463c-9fc1-ad4c8927fe47",
   "metadata": {},
   "outputs": [],
   "source": [
    "dbof_dev_json_file = 'llc4320_dbof_dev.json'\n",
    "config_file = 'DBOF_train_config_jake_test.json'"
   ]
  },
  {
   "cell_type": "code",
   "execution_count": 8,
   "id": "103b88a2-e21e-4a79-a02f-316061752546",
   "metadata": {},
   "outputs": [],
   "source": [
    "config = fronts_io.loadjson(config_file)"
   ]
  },
  {
   "cell_type": "markdown",
   "id": "a8a5d1ec-ef8c-4091-a6b2-9cab7c926bd8",
   "metadata": {},
   "source": [
    "## Main table"
   ]
  },
  {
   "cell_type": "code",
   "execution_count": 3,
   "id": "b7e0de12-6a3e-4d83-9d65-92d50a5e59d5",
   "metadata": {},
   "outputs": [
    {
     "name": "stdout",
     "output_type": "stream",
     "text": [
      "Read main table: /home/xavier/Oceanography/data/OGCM/DBOF/DBOF_dev/DBOF_dev.parquet\n"
     ]
    },
    {
     "data": {
      "text/html": [
       "<div>\n",
       "<style scoped>\n",
       "    .dataframe tbody tr th:only-of-type {\n",
       "        vertical-align: middle;\n",
       "    }\n",
       "\n",
       "    .dataframe tbody tr th {\n",
       "        vertical-align: top;\n",
       "    }\n",
       "\n",
       "    .dataframe thead th {\n",
       "        text-align: right;\n",
       "    }\n",
       "</style>\n",
       "<table border=\"1\" class=\"dataframe\">\n",
       "  <thead>\n",
       "    <tr style=\"text-align: right;\">\n",
       "      <th></th>\n",
       "      <th>lat</th>\n",
       "      <th>lon</th>\n",
       "      <th>row</th>\n",
       "      <th>col</th>\n",
       "      <th>datetime</th>\n",
       "      <th>UID</th>\n",
       "      <th>SSTK</th>\n",
       "      <th>SSSs</th>\n",
       "      <th>Divb2</th>\n",
       "      <th>SSS</th>\n",
       "      <th>SSH</th>\n",
       "      <th>U</th>\n",
       "      <th>Fs</th>\n",
       "      <th>V</th>\n",
       "    </tr>\n",
       "  </thead>\n",
       "  <tbody>\n",
       "    <tr>\n",
       "      <th>0</th>\n",
       "      <td>56.752953</td>\n",
       "      <td>-170.447922</td>\n",
       "      <td>11465</td>\n",
       "      <td>10890</td>\n",
       "      <td>2011-09-30</td>\n",
       "      <td>13173401467539552</td>\n",
       "      <td>False</td>\n",
       "      <td>False</td>\n",
       "      <td>False</td>\n",
       "      <td>False</td>\n",
       "      <td>False</td>\n",
       "      <td>False</td>\n",
       "      <td>True</td>\n",
       "      <td>False</td>\n",
       "    </tr>\n",
       "    <tr>\n",
       "      <th>1</th>\n",
       "      <td>56.796970</td>\n",
       "      <td>-155.677078</td>\n",
       "      <td>11469</td>\n",
       "      <td>11599</td>\n",
       "      <td>2011-09-30</td>\n",
       "      <td>131734014679724323</td>\n",
       "      <td>False</td>\n",
       "      <td>False</td>\n",
       "      <td>False</td>\n",
       "      <td>False</td>\n",
       "      <td>False</td>\n",
       "      <td>False</td>\n",
       "      <td>True</td>\n",
       "      <td>False</td>\n",
       "    </tr>\n",
       "    <tr>\n",
       "      <th>2</th>\n",
       "      <td>56.818966</td>\n",
       "      <td>-155.635422</td>\n",
       "      <td>11471</td>\n",
       "      <td>11601</td>\n",
       "      <td>2011-09-30</td>\n",
       "      <td>131734014681924365</td>\n",
       "      <td>False</td>\n",
       "      <td>False</td>\n",
       "      <td>False</td>\n",
       "      <td>False</td>\n",
       "      <td>False</td>\n",
       "      <td>False</td>\n",
       "      <td>True</td>\n",
       "      <td>False</td>\n",
       "    </tr>\n",
       "    <tr>\n",
       "      <th>3</th>\n",
       "      <td>56.631676</td>\n",
       "      <td>-152.864578</td>\n",
       "      <td>11454</td>\n",
       "      <td>11734</td>\n",
       "      <td>2011-09-30</td>\n",
       "      <td>131734014663227135</td>\n",
       "      <td>False</td>\n",
       "      <td>False</td>\n",
       "      <td>False</td>\n",
       "      <td>False</td>\n",
       "      <td>False</td>\n",
       "      <td>False</td>\n",
       "      <td>True</td>\n",
       "      <td>False</td>\n",
       "    </tr>\n",
       "    <tr>\n",
       "      <th>4</th>\n",
       "      <td>56.917801</td>\n",
       "      <td>-152.114578</td>\n",
       "      <td>11480</td>\n",
       "      <td>11770</td>\n",
       "      <td>2011-09-30</td>\n",
       "      <td>131734014691827885</td>\n",
       "      <td>False</td>\n",
       "      <td>False</td>\n",
       "      <td>False</td>\n",
       "      <td>False</td>\n",
       "      <td>False</td>\n",
       "      <td>False</td>\n",
       "      <td>True</td>\n",
       "      <td>False</td>\n",
       "    </tr>\n",
       "  </tbody>\n",
       "</table>\n",
       "</div>"
      ],
      "text/plain": [
       "         lat         lon    row    col   datetime                 UID   SSTK  \\\n",
       "0  56.752953 -170.447922  11465  10890 2011-09-30   13173401467539552  False   \n",
       "1  56.796970 -155.677078  11469  11599 2011-09-30  131734014679724323  False   \n",
       "2  56.818966 -155.635422  11471  11601 2011-09-30  131734014681924365  False   \n",
       "3  56.631676 -152.864578  11454  11734 2011-09-30  131734014663227135  False   \n",
       "4  56.917801 -152.114578  11480  11770 2011-09-30  131734014691827885  False   \n",
       "\n",
       "    SSSs  Divb2    SSS    SSH      U    Fs      V  \n",
       "0  False  False  False  False  False  True  False  \n",
       "1  False  False  False  False  False  True  False  \n",
       "2  False  False  False  False  False  True  False  \n",
       "3  False  False  False  False  False  True  False  \n",
       "4  False  False  False  False  False  True  False  "
      ]
     },
     "execution_count": 3,
     "metadata": {},
     "output_type": "execute_result"
    }
   ],
   "source": [
    "dbof_table = dbof_io.load_main_table(dbof_dev_json_file)\n",
    "dbof_table.head()"
   ]
  },
  {
   "cell_type": "markdown",
   "id": "c979e666-c4c2-4154-afd1-911da4391239",
   "metadata": {},
   "source": [
    "## Meta table"
   ]
  },
  {
   "cell_type": "code",
   "execution_count": 11,
   "id": "0da71a7c-d0bd-47d4-91f6-479a1655ca69",
   "metadata": {},
   "outputs": [
    {
     "name": "stdout",
     "output_type": "stream",
     "text": [
      "Read main table: /home/xavier/Oceanography/data/OGCM/DBOF/DBOF_dev/Fields/DBOF_dev_Divb2_meta.parquet\n"
     ]
    }
   ],
   "source": [
    "meta_tbl = dbof_io.load_meta_table(dbof_dev_json_file, config['sampling']['field'])"
   ]
  },
  {
   "cell_type": "markdown",
   "id": "18eb2909-a6b9-4b2e-b4a6-2c6c9205e74c",
   "metadata": {},
   "source": [
    "# Generate test, train tables"
   ]
  },
  {
   "cell_type": "code",
   "execution_count": 9,
   "id": "c7545bff-de4d-4181-ae8d-f60822e598ef",
   "metadata": {},
   "outputs": [
    {
     "name": "stdout",
     "output_type": "stream",
     "text": [
      "Read main table: /home/xavier/Oceanography/data/OGCM/DBOF/DBOF_dev/DBOF_dev.parquet\n",
      "Read main table: /home/xavier/Oceanography/data/OGCM/DBOF/DBOF_dev/Fields/DBOF_dev_Divb2_meta.parquet\n"
     ]
    }
   ],
   "source": [
    "train_tbl, valid_tbl, test_tbl =  ttables.dbof_gen_tvt(dbof_dev_json_file, config_file)"
   ]
  },
  {
   "cell_type": "code",
   "execution_count": 5,
   "id": "2a3927d2-6cc7-498d-b108-7387a1acf369",
   "metadata": {},
   "outputs": [],
   "source": [
    "## Check log Divb2 distribution"
   ]
  },
  {
   "cell_type": "code",
   "execution_count": 15,
   "id": "664d5df5-2735-412f-a9b7-7cf6d9d6f0c5",
   "metadata": {},
   "outputs": [],
   "source": [
    "in_train = meta_tbl.UID.isin(train_tbl.UID)\n",
    "#in_train"
   ]
  },
  {
   "cell_type": "code",
   "execution_count": 18,
   "id": "9e0dcc3b-839f-4c68-9574-942030681dd5",
   "metadata": {},
   "outputs": [
    {
     "data": {
      "text/plain": [
       "<Axes: xlabel='p90', ylabel='Count'>"
      ]
     },
     "execution_count": 18,
     "metadata": {},
     "output_type": "execute_result"
    },
    {
     "data": {
      "image/png": "[encoded data removed]",
      "text/plain": [
       "<Figure size 640x480 with 1 Axes>"
      ]
     },
     "metadata": {},
     "output_type": "display_data"
    }
   ],
   "source": [
    "sns.histplot(np.log10(meta_tbl[in_train].p90), bins=10)"
   ]
  },
  {
   "cell_type": "code",
   "execution_count": null,
   "id": "b471455b-8d3e-4721-8ce0-87b1565f5c24",
   "metadata": {},
   "outputs": [],
   "source": []
  }
 ],
 "metadata": {
  "kernelspec": {
   "display_name": "Python 3 (ipykernel)",
   "language": "python",
   "name": "python3"
  },
  "language_info": {
   "codemirror_mode": {
    "name": "ipython",
    "version": 3
   },
   "file_extension": ".py",
   "mimetype": "text/x-python",
   "name": "python",
   "nbconvert_exporter": "python",
   "pygments_lexer": "ipython3",
   "version": "3.13.2"
  }
 },
 "nbformat": 4,
 "nbformat_minor": 5
}
