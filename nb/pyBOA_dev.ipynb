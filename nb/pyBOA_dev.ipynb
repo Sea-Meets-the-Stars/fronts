{
 "cells": [
  {
   "cell_type": "markdown",
   "id": "3e0834ed-6c1f-46f8-b7a7-00e6f2dbc77c",
   "metadata": {},
   "source": [
    "# Development of BOA"
   ]
  },
  {
   "cell_type": "code",
   "execution_count": 6,
   "id": "ba6fcb95-b406-4ad5-8ad0-69cfc1e61ca7",
   "metadata": {},
   "outputs": [],
   "source": [
    "# imports\n",
    "from importlib import reload\n",
    "import os\n",
    "\n",
    "import numpy as np\n",
    "import h5py\n",
    "import xarray\n",
    "import pandas\n",
    "\n",
    "from matplotlib import pyplot as plt\n",
    "\n",
    "from skimage import morphology\n",
    "\n",
    "from wrangler.plotting import cutout\n",
    "from wrangler.ogcm import llc as wr_llc\n",
    "\n",
    "from fronts.pyboa import pyboa\n",
    "from fronts.llc import extract"
   ]
  },
  {
   "cell_type": "markdown",
   "id": "8432e0d0-bb7a-4649-9309-15bcc791f30f",
   "metadata": {},
   "source": [
    "# Load up training data"
   ]
  },
  {
   "cell_type": "code",
   "execution_count": 7,
   "id": "fe6b9bd8-a25f-4c14-9910-296804cd50bc",
   "metadata": {},
   "outputs": [],
   "source": [
    "## B = Inputs = Div SST, SSS, SST \n",
    "        #   Targets = Divb2 "
   ]
  },
  {
   "cell_type": "code",
   "execution_count": 8,
   "id": "64cea362-d193-4337-ac3f-345ff0502993",
   "metadata": {},
   "outputs": [],
   "source": [
    "b_tblfile = os.path.join(os.getenv('OS_OGCM'), 'LLC', 'Fronts', 'Training_Sets', \n",
    "                     'LLC4320_SST144_SSS40_trainB.parquet')\n",
    "b_file = os.path.join(os.getenv('OS_OGCM'), 'LLC', 'Fronts', 'Training_Sets', \n",
    "                     'LLC4320_SST144_SSS40_trainB.h5')"
   ]
  },
  {
   "cell_type": "code",
   "execution_count": 9,
   "id": "e3aee4cf-c6c7-4e60-89ff-07fcfad9427c",
   "metadata": {},
   "outputs": [
    {
     "data": {
      "text/plain": [
       "<KeysViewHDF5 ['inputs', 'targets']>"
      ]
     },
     "execution_count": 9,
     "metadata": {},
     "output_type": "execute_result"
    }
   ],
   "source": [
    "b_train = h5py.File(b_file, 'r')\n",
    "b_train.keys()"
   ]
  },
  {
   "cell_type": "code",
   "execution_count": 10,
   "id": "346d092e-8ec8-4052-ad1b-a1a56df39859",
   "metadata": {},
   "outputs": [
    {
     "data": {
      "text/plain": [
       "lat                                                  -28.979555\n",
       "lon                                                  -158.90625\n",
       "row                                                        6310\n",
       "col                                                       11444\n",
       "datetime                                    2011-12-25 00:00:00\n",
       "UID                                           13246102042109375\n",
       "filename      /data/Projects/Oceanography/data/LLC/ThetaUVSa...\n",
       "pp_file                                                        \n",
       "pp_root                       llc4320_sst144_sss40_extract.json\n",
       "field_size                                                   64\n",
       "pp_type                                                       0\n",
       "SSTmax                                                24.571771\n",
       "SSTmin                                                22.414863\n",
       "SST10                                                 23.131249\n",
       "SST90                                                 24.349434\n",
       "SSTmu                                                 23.872612\n",
       "SSSmax                                                35.403801\n",
       "SSSmin                                                35.240265\n",
       "SSS10                                                 35.254714\n",
       "SSS90                                                 35.371112\n",
       "SSSmu                                                 35.304237\n",
       "Divb2max                                                    0.0\n",
       "Divb2min                                                    0.0\n",
       "Divb210                                                     0.0\n",
       "Divb290                                                     0.0\n",
       "Divb2mu                                                     0.0\n",
       "Name: 971122, dtype: object"
      ]
     },
     "execution_count": 10,
     "metadata": {},
     "output_type": "execute_result"
    }
   ],
   "source": [
    "b_tbl = pandas.read_parquet(b_tblfile)\n",
    "b_tbl.iloc[500]"
   ]
  },
  {
   "cell_type": "code",
   "execution_count": 11,
   "id": "1ac34c1d-f07a-4039-be45-d8645fc49142",
   "metadata": {},
   "outputs": [],
   "source": [
    "def parse_idx(idx):\n",
    "    # Parase\n",
    "    div_sst = b_train['inputs'][idx, 0, 0, ...]\n",
    "    sst = b_train['inputs'][idx, 2, 0, ...]\n",
    "    sss = b_train['inputs'][idx, 1, 0, ...]\n",
    "    #\n",
    "    Divb2 = b_train['targets'][idx, 0, 0, ...]\n",
    "    #\n",
    "    return div_sst, sst, sss, Divb2"
   ]
  },
  {
   "cell_type": "code",
   "execution_count": 12,
   "id": "7000d6ae-4044-4771-8458-7c2bd60b0d79",
   "metadata": {},
   "outputs": [],
   "source": [
    "def plot_example(idx):\n",
    "    div_sst, sst, sss, Divb2 = parse_idx(idx)\n",
    "\n",
    "    # Plot\n",
    "    fig, (ax1, ax2, ax3) = plt.subplots(1, 3, figsize=(15, 4))\n",
    "    cutout.show_image(sst, clbl='SST (deg C)', ax=ax1)\n",
    "    cutout.show_image(div_sst, clbl=r'|Div SST|$^2$', cm='viridis', ax=ax2)\n",
    "    #cutout.show_image(sss, clbl='SSS (psu)', cm='viridis', ax=ax2)\n",
    "    cutout.show_image(Divb2, clbl=r'$\\nabla b^2$', cm='Greys', ax=ax3)\n",
    "    #\n",
    "    plt.show()"
   ]
  },
  {
   "cell_type": "code",
   "execution_count": 13,
   "id": "e7d9c07a-cbd9-472d-8bfc-d8e186a0035b",
   "metadata": {},
   "outputs": [],
   "source": [
    "def arr_to_dataset(arr):\n",
    "    ds = xarray.Dataset({\n",
    "    'data': (['x', 'y'], arr)}, coords={\n",
    "    'x': range(arr.shape[0]),  # 0, 1, 2, ..., 9\n",
    "    'y': range(arr.shape[1]),  # 0, 1, 2, 3, 4\n",
    "    })\n",
    "    return ds"
   ]
  },
  {
   "cell_type": "markdown",
   "id": "26d4069f-a341-488b-a5f2-c397e11e0ce7",
   "metadata": {},
   "source": [
    "# Try it"
   ]
  },
  {
   "cell_type": "markdown",
   "id": "0257dfaf-f225-46ce-bc17-224ff16badc5",
   "metadata": {},
   "source": [
    "## Pick one"
   ]
  },
  {
   "cell_type": "code",
   "execution_count": 14,
   "id": "cc37b92a-3f2a-4685-9072-b83ee470fa11",
   "metadata": {},
   "outputs": [],
   "source": [
    "idx = 500\n",
    "div_sst, sst, sss, Divb2 = parse_idx(idx)"
   ]
  },
  {
   "cell_type": "markdown",
   "id": "03f5e29b-d151-422e-a49a-5a48ea831a33",
   "metadata": {},
   "source": [
    "### Plot it"
   ]
  },
  {
   "cell_type": "code",
   "execution_count": 15,
   "id": "0c9ae9a9-f354-48b1-b904-982f4dce8db9",
   "metadata": {},
   "outputs": [
    {
     "data": {
      "image/png": "[encoded data removed]",
      "text/plain": [
       "<Figure size 1500x400 with 6 Axes>"
      ]
     },
     "metadata": {},
     "output_type": "display_data"
    }
   ],
   "source": [
    "plot_example(idx)"
   ]
  },
  {
   "cell_type": "markdown",
   "id": "74a1f08e-e559-4b36-999f-f067d880d46a",
   "metadata": {},
   "source": [
    "## PyBOA"
   ]
  },
  {
   "cell_type": "markdown",
   "id": "58bb0256-07b1-4153-a8bb-a60564b44f34",
   "metadata": {},
   "source": [
    "## Plot em"
   ]
  },
  {
   "cell_type": "code",
   "execution_count": 37,
   "id": "afeefbad-77a1-464f-a788-ffe6f30e6946",
   "metadata": {},
   "outputs": [],
   "source": [
    "def plot_fronts(idx, res_fronts):\n",
    "    div_sst, sst, sss, Divb2 = parse_idx(idx)\n",
    "\n",
    "    # Plot\n",
    "    fig = plt.figure(figsize=(5,5))\n",
    "    ax = plt.gca()\n",
    "    #\n",
    "    cutout.show_image(np.flipud(Divb2), cbar=False, #clbl=r'$\\nabla b^2$', \n",
    "                      cm='Greys', ax=ax)\n",
    "    #cutout.show_image(np.flipud(pp_fields[0]), cbar=False, #clbl=r'$\\nabla b^2$', \n",
    "    #                  cm='Greys', ax=ax)\n",
    "    #cutout.show_image(np.flipud(pp_fields2[0]), cbar=False, #clbl=r'$\\nabla b^2$', \n",
    "    #                  cm='Greys', ax=ax)\n",
    "    #cutout.show_image(np.flipud(boa.isel(time=0).data_sobel), cbar=False, #clbl=r'$\\nabla b^2$', \n",
    "    #                  cm='Blues', ax=ax)\n",
    "    # BOA\n",
    "    #col,row = np.where(np.isfinite(boa.data_fronts.isel(time=0).data))\n",
    "    #ax.scatter(row, col, s=1.0, color='red', marker='s')\n",
    "    col,row = np.where(res_fronts)\n",
    "    ax.scatter(row, col, s=1.0, color='green')\n",
    "    #\n",
    "    plt.show()"
   ]
  },
  {
   "cell_type": "markdown",
   "id": "dc1458c7-a9ed-4af8-8221-311385915611",
   "metadata": {},
   "source": [
    "## Apply to $|\\nabla b|^2$ image"
   ]
  },
  {
   "cell_type": "code",
   "execution_count": 32,
   "id": "d3b8e16b-1c4e-455c-b5a4-1eb3342387a7",
   "metadata": {},
   "outputs": [],
   "source": [
    "#res_frnt = pyboa_b2.front_trsh(prcnt=80).pyBOA.thinning(f_dilate=True)"
   ]
  },
  {
   "cell_type": "markdown",
   "id": "f6e4c929-2c04-41b9-9139-90bbe5ddbfc5",
   "metadata": {},
   "source": [
    "## pyBOA threshold"
   ]
  },
  {
   "cell_type": "code",
   "execution_count": 34,
   "id": "08eaa11f-1597-4730-9d71-d12334f5f9e6",
   "metadata": {},
   "outputs": [],
   "source": [
    "divb2_ds = arr_to_dataset(Divb2)\n",
    "pyboa_b2 = pyboa.pyBOA(divb2_ds)\n",
    "res_frnt2 = pyboa_b2.front_trsh(prcnt=90)\n",
    "#res_ds = arr_to_dataset(res_frnt.isel(time=0).data.data)\n",
    "#res_pyboa = pyBOA.pyBOA(res_ds)\n",
    "#res_frnt = res_pyboa.thinning(f_dilate=True)\n",
    "#res_frnt\n",
    "#res_pyboa._array\n",
    "#res_frnt2 = res_pyboa.thinning(f_dilate=True)"
   ]
  },
  {
   "cell_type": "code",
   "execution_count": 24,
   "id": "8931b681-5aa5-4e75-8e85-76e4b1e4e532",
   "metadata": {},
   "outputs": [
    {
     "data": {
      "text/html": [
       "<div><svg style=\"position: absolute; width: 0; height: 0; overflow: hidden\">\n",
       "<defs>\n",
       "<symbol id=\"icon-database\" viewBox=\"0 0 32 32\">\n",
       "<path d=\"M16 0c-8.837 0-16 2.239-16 5v4c0 2.761 7.163 5 16 5s16-2.239 16-5v-4c0-2.761-7.163-5-16-5z\"></path>\n",
       "<path d=\"M16 17c-8.837 0-16-2.239-16-5v6c0 2.761 7.163 5 16 5s16-2.239 16-5v-6c0 2.761-7.163 5-16 5z\"></path>\n",
       "<path d=\"M16 26c-8.837 0-16-2.239-16-5v6c0 2.761 7.163 5 16 5s16-2.239 16-5v-6c0 2.761-7.163 5-16 5z\"></path>\n",
       "</symbol>\n",
       "<symbol id=\"icon-file-text2\" viewBox=\"0 0 32 32\">\n",
       "<path d=\"M28.681 7.159c-0.694-0.947-1.662-2.053-2.724-3.116s-2.169-2.030-3.116-2.724c-1.612-1.182-2.393-1.319-2.841-1.319h-15.5c-1.378 0-2.5 1.121-2.5 2.5v27c0 1.378 1.122 2.5 2.5 2.5h23c1.378 0 2.5-1.122 2.5-2.5v-19.5c0-0.448-0.137-1.23-1.319-2.841zM24.543 5.457c0.959 0.959 1.712 1.825 2.268 2.543h-4.811v-4.811c0.718 0.556 1.584 1.309 2.543 2.268zM28 29.5c0 0.271-0.229 0.5-0.5 0.5h-23c-0.271 0-0.5-0.229-0.5-0.5v-27c0-0.271 0.229-0.5 0.5-0.5 0 0 15.499-0 15.5 0v7c0 0.552 0.448 1 1 1h7v19.5z\"></path>\n",
       "<path d=\"M23 26h-14c-0.552 0-1-0.448-1-1s0.448-1 1-1h14c0.552 0 1 0.448 1 1s-0.448 1-1 1z\"></path>\n",
       "<path d=\"M23 22h-14c-0.552 0-1-0.448-1-1s0.448-1 1-1h14c0.552 0 1 0.448 1 1s-0.448 1-1 1z\"></path>\n",
       "<path d=\"M23 18h-14c-0.552 0-1-0.448-1-1s0.448-1 1-1h14c0.552 0 1 0.448 1 1s-0.448 1-1 1z\"></path>\n",
       "</symbol>\n",
       "</defs>\n",
       "</svg>\n",
       "<style>/* CSS stylesheet for displaying xarray objects in jupyterlab.\n",
       " *\n",
       " */\n",
       "\n",
       ":root {\n",
       "  --xr-font-color0: var(--jp-content-font-color0, rgba(0, 0, 0, 1));\n",
       "  --xr-font-color2: var(--jp-content-font-color2, rgba(0, 0, 0, 0.54));\n",
       "  --xr-font-color3: var(--jp-content-font-color3, rgba(0, 0, 0, 0.38));\n",
       "  --xr-border-color: var(--jp-border-color2, #e0e0e0);\n",
       "  --xr-disabled-color: var(--jp-layout-color3, #bdbdbd);\n",
       "  --xr-background-color: var(--jp-layout-color0, white);\n",
       "  --xr-background-color-row-even: var(--jp-layout-color1, white);\n",
       "  --xr-background-color-row-odd: var(--jp-layout-color2, #eeeeee);\n",
       "}\n",
       "\n",
       "html[theme=dark],\n",
       "html[data-theme=dark],\n",
       "body[data-theme=dark],\n",
       "body.vscode-dark {\n",
       "  --xr-font-color0: rgba(255, 255, 255, 1);\n",
       "  --xr-font-color2: rgba(255, 255, 255, 0.54);\n",
       "  --xr-font-color3: rgba(255, 255, 255, 0.38);\n",
       "  --xr-border-color: #1F1F1F;\n",
       "  --xr-disabled-color: #515151;\n",
       "  --xr-background-color: #111111;\n",
       "  --xr-background-color-row-even: #111111;\n",
       "  --xr-background-color-row-odd: #313131;\n",
       "}\n",
       "\n",
       ".xr-wrap {\n",
       "  display: block !important;\n",
       "  min-width: 300px;\n",
       "  max-width: 700px;\n",
       "}\n",
       "\n",
       ".xr-text-repr-fallback {\n",
       "  /* fallback to plain text repr when CSS is not injected (untrusted notebook) */\n",
       "  display: none;\n",
       "}\n",
       "\n",
       ".xr-header {\n",
       "  padding-top: 6px;\n",
       "  padding-bottom: 6px;\n",
       "  margin-bottom: 4px;\n",
       "  border-bottom: solid 1px var(--xr-border-color);\n",
       "}\n",
       "\n",
       ".xr-header > div,\n",
       ".xr-header > ul {\n",
       "  display: inline;\n",
       "  margin-top: 0;\n",
       "  margin-bottom: 0;\n",
       "}\n",
       "\n",
       ".xr-obj-type,\n",
       ".xr-array-name {\n",
       "  margin-left: 2px;\n",
       "  margin-right: 10px;\n",
       "}\n",
       "\n",
       ".xr-obj-type {\n",
       "  color: var(--xr-font-color2);\n",
       "}\n",
       "\n",
       ".xr-sections {\n",
       "  padding-left: 0 !important;\n",
       "  display: grid;\n",
       "  grid-template-columns: 150px auto auto 1fr 0 20px 0 20px;\n",
       "}\n",
       "\n",
       ".xr-section-item {\n",
       "  display: contents;\n",
       "}\n",
       "\n",
       ".xr-section-item input {\n",
       "  display: inline-block;\n",
       "  opacity: 0;\n",
       "}\n",
       "\n",
       ".xr-section-item input + label {\n",
       "  color: var(--xr-disabled-color);\n",
       "}\n",
       "\n",
       ".xr-section-item input:enabled + label {\n",
       "  cursor: pointer;\n",
       "  color: var(--xr-font-color2);\n",
       "}\n",
       "\n",
       ".xr-section-item input:focus + label {\n",
       "  border: 2px solid var(--xr-font-color0);\n",
       "}\n",
       "\n",
       ".xr-section-item input:enabled + label:hover {\n",
       "  color: var(--xr-font-color0);\n",
       "}\n",
       "\n",
       ".xr-section-summary {\n",
       "  grid-column: 1;\n",
       "  color: var(--xr-font-color2);\n",
       "  font-weight: 500;\n",
       "}\n",
       "\n",
       ".xr-section-summary > span {\n",
       "  display: inline-block;\n",
       "  padding-left: 0.5em;\n",
       "}\n",
       "\n",
       ".xr-section-summary-in:disabled + label {\n",
       "  color: var(--xr-font-color2);\n",
       "}\n",
       "\n",
       ".xr-section-summary-in + label:before {\n",
       "  display: inline-block;\n",
       "  content: '►';\n",
       "  font-size: 11px;\n",
       "  width: 15px;\n",
       "  text-align: center;\n",
       "}\n",
       "\n",
       ".xr-section-summary-in:disabled + label:before {\n",
       "  color: var(--xr-disabled-color);\n",
       "}\n",
       "\n",
       ".xr-section-summary-in:checked + label:before {\n",
       "  content: '▼';\n",
       "}\n",
       "\n",
       ".xr-section-summary-in:checked + label > span {\n",
       "  display: none;\n",
       "}\n",
       "\n",
       ".xr-section-summary,\n",
       ".xr-section-inline-details {\n",
       "  padding-top: 4px;\n",
       "  padding-bottom: 4px;\n",
       "}\n",
       "\n",
       ".xr-section-inline-details {\n",
       "  grid-column: 2 / -1;\n",
       "}\n",
       "\n",
       ".xr-section-details {\n",
       "  display: none;\n",
       "  grid-column: 1 / -1;\n",
       "  margin-bottom: 5px;\n",
       "}\n",
       "\n",
       ".xr-section-summary-in:checked ~ .xr-section-details {\n",
       "  display: contents;\n",
       "}\n",
       "\n",
       ".xr-array-wrap {\n",
       "  grid-column: 1 / -1;\n",
       "  display: grid;\n",
       "  grid-template-columns: 20px auto;\n",
       "}\n",
       "\n",
       ".xr-array-wrap > label {\n",
       "  grid-column: 1;\n",
       "  vertical-align: top;\n",
       "}\n",
       "\n",
       ".xr-preview {\n",
       "  color: var(--xr-font-color3);\n",
       "}\n",
       "\n",
       ".xr-array-preview,\n",
       ".xr-array-data {\n",
       "  padding: 0 5px !important;\n",
       "  grid-column: 2;\n",
       "}\n",
       "\n",
       ".xr-array-data,\n",
       ".xr-array-in:checked ~ .xr-array-preview {\n",
       "  display: none;\n",
       "}\n",
       "\n",
       ".xr-array-in:checked ~ .xr-array-data,\n",
       ".xr-array-preview {\n",
       "  display: inline-block;\n",
       "}\n",
       "\n",
       ".xr-dim-list {\n",
       "  display: inline-block !important;\n",
       "  list-style: none;\n",
       "  padding: 0 !important;\n",
       "  margin: 0;\n",
       "}\n",
       "\n",
       ".xr-dim-list li {\n",
       "  display: inline-block;\n",
       "  padding: 0;\n",
       "  margin: 0;\n",
       "}\n",
       "\n",
       ".xr-dim-list:before {\n",
       "  content: '(';\n",
       "}\n",
       "\n",
       ".xr-dim-list:after {\n",
       "  content: ')';\n",
       "}\n",
       "\n",
       ".xr-dim-list li:not(:last-child):after {\n",
       "  content: ',';\n",
       "  padding-right: 5px;\n",
       "}\n",
       "\n",
       ".xr-has-index {\n",
       "  font-weight: bold;\n",
       "}\n",
       "\n",
       ".xr-var-list,\n",
       ".xr-var-item {\n",
       "  display: contents;\n",
       "}\n",
       "\n",
       ".xr-var-item > div,\n",
       ".xr-var-item label,\n",
       ".xr-var-item > .xr-var-name span {\n",
       "  background-color: var(--xr-background-color-row-even);\n",
       "  margin-bottom: 0;\n",
       "}\n",
       "\n",
       ".xr-var-item > .xr-var-name:hover span {\n",
       "  padding-right: 5px;\n",
       "}\n",
       "\n",
       ".xr-var-list > li:nth-child(odd) > div,\n",
       ".xr-var-list > li:nth-child(odd) > label,\n",
       ".xr-var-list > li:nth-child(odd) > .xr-var-name span {\n",
       "  background-color: var(--xr-background-color-row-odd);\n",
       "}\n",
       "\n",
       ".xr-var-name {\n",
       "  grid-column: 1;\n",
       "}\n",
       "\n",
       ".xr-var-dims {\n",
       "  grid-column: 2;\n",
       "}\n",
       "\n",
       ".xr-var-dtype {\n",
       "  grid-column: 3;\n",
       "  text-align: right;\n",
       "  color: var(--xr-font-color2);\n",
       "}\n",
       "\n",
       ".xr-var-preview {\n",
       "  grid-column: 4;\n",
       "}\n",
       "\n",
       ".xr-index-preview {\n",
       "  grid-column: 2 / 5;\n",
       "  color: var(--xr-font-color2);\n",
       "}\n",
       "\n",
       ".xr-var-name,\n",
       ".xr-var-dims,\n",
       ".xr-var-dtype,\n",
       ".xr-preview,\n",
       ".xr-attrs dt {\n",
       "  white-space: nowrap;\n",
       "  overflow: hidden;\n",
       "  text-overflow: ellipsis;\n",
       "  padding-right: 10px;\n",
       "}\n",
       "\n",
       ".xr-var-name:hover,\n",
       ".xr-var-dims:hover,\n",
       ".xr-var-dtype:hover,\n",
       ".xr-attrs dt:hover {\n",
       "  overflow: visible;\n",
       "  width: auto;\n",
       "  z-index: 1;\n",
       "}\n",
       "\n",
       ".xr-var-attrs,\n",
       ".xr-var-data,\n",
       ".xr-index-data {\n",
       "  display: none;\n",
       "  background-color: var(--xr-background-color) !important;\n",
       "  padding-bottom: 5px !important;\n",
       "}\n",
       "\n",
       ".xr-var-attrs-in:checked ~ .xr-var-attrs,\n",
       ".xr-var-data-in:checked ~ .xr-var-data,\n",
       ".xr-index-data-in:checked ~ .xr-index-data {\n",
       "  display: block;\n",
       "}\n",
       "\n",
       ".xr-var-data > table {\n",
       "  float: right;\n",
       "}\n",
       "\n",
       ".xr-var-name span,\n",
       ".xr-var-data,\n",
       ".xr-index-name div,\n",
       ".xr-index-data,\n",
       ".xr-attrs {\n",
       "  padding-left: 25px !important;\n",
       "}\n",
       "\n",
       ".xr-attrs,\n",
       ".xr-var-attrs,\n",
       ".xr-var-data,\n",
       ".xr-index-data {\n",
       "  grid-column: 1 / -1;\n",
       "}\n",
       "\n",
       "dl.xr-attrs {\n",
       "  padding: 0;\n",
       "  margin: 0;\n",
       "  display: grid;\n",
       "  grid-template-columns: 125px auto;\n",
       "}\n",
       "\n",
       ".xr-attrs dt,\n",
       ".xr-attrs dd {\n",
       "  padding: 0;\n",
       "  margin: 0;\n",
       "  float: left;\n",
       "  padding-right: 10px;\n",
       "  width: auto;\n",
       "}\n",
       "\n",
       ".xr-attrs dt {\n",
       "  font-weight: normal;\n",
       "  grid-column: 1;\n",
       "}\n",
       "\n",
       ".xr-attrs dt:hover span {\n",
       "  display: inline-block;\n",
       "  background: var(--xr-background-color);\n",
       "  padding-right: 10px;\n",
       "}\n",
       "\n",
       ".xr-attrs dd {\n",
       "  grid-column: 2;\n",
       "  white-space: pre-wrap;\n",
       "  word-break: break-all;\n",
       "}\n",
       "\n",
       ".xr-icon-database,\n",
       ".xr-icon-file-text2,\n",
       ".xr-no-icon {\n",
       "  display: inline-block;\n",
       "  vertical-align: middle;\n",
       "  width: 1em;\n",
       "  height: 1.5em !important;\n",
       "  stroke-width: 0;\n",
       "  stroke: currentColor;\n",
       "  fill: currentColor;\n",
       "}\n",
       "</style><pre class='xr-text-repr-fallback'>&lt;xarray.Dataset&gt; Size: 8B\n",
       "Dimensions:  ()\n",
       "Data variables:\n",
       "    data     int64 8B 401</pre><div class='xr-wrap' style='display:none'><div class='xr-header'><div class='xr-obj-type'>xarray.Dataset</div></div><ul class='xr-sections'><li class='xr-section-item'><input id='section-0bd10436-8465-462d-8aa8-ac1d0169734c' class='xr-section-summary-in' type='checkbox' disabled ><label for='section-0bd10436-8465-462d-8aa8-ac1d0169734c' class='xr-section-summary'  title='Expand/collapse section'>Dimensions:</label><div class='xr-section-inline-details'></div><div class='xr-section-details'></div></li><li class='xr-section-item'><input id='section-00d3f457-39eb-4989-b0d2-897cd6c8ce2d' class='xr-section-summary-in' type='checkbox' disabled ><label for='section-00d3f457-39eb-4989-b0d2-897cd6c8ce2d' class='xr-section-summary'  title='Expand/collapse section'>Coordinates: <span>(0)</span></label><div class='xr-section-inline-details'></div><div class='xr-section-details'><ul class='xr-var-list'></ul></div></li><li class='xr-section-item'><input id='section-412968c6-04e9-4e85-929c-ca42938a7e5a' class='xr-section-summary-in' type='checkbox'  checked><label for='section-412968c6-04e9-4e85-929c-ca42938a7e5a' class='xr-section-summary' >Data variables: <span>(1)</span></label><div class='xr-section-inline-details'></div><div class='xr-section-details'><ul class='xr-var-list'><li class='xr-var-item'><div class='xr-var-name'><span>data</span></div><div class='xr-var-dims'>()</div><div class='xr-var-dtype'>int64</div><div class='xr-var-preview xr-preview'>401</div><input id='attrs-7957fe5b-aa5a-49cd-bd5d-200fd62f5c3d' class='xr-var-attrs-in' type='checkbox' disabled><label for='attrs-7957fe5b-aa5a-49cd-bd5d-200fd62f5c3d' title='Show/Hide attributes'><svg class='icon xr-icon-file-text2'><use xlink:href='#icon-file-text2'></use></svg></label><input id='data-18d51d07-0e61-47c7-ae26-918b59a4609e' class='xr-var-data-in' type='checkbox'><label for='data-18d51d07-0e61-47c7-ae26-918b59a4609e' title='Show/Hide data repr'><svg class='icon xr-icon-database'><use xlink:href='#icon-database'></use></svg></label><div class='xr-var-attrs'><dl class='xr-attrs'></dl></div><div class='xr-var-data'><pre>array(401)</pre></div></li></ul></div></li><li class='xr-section-item'><input id='section-9861b9ce-01ee-43dc-b9ed-78a86ada1528' class='xr-section-summary-in' type='checkbox' disabled ><label for='section-9861b9ce-01ee-43dc-b9ed-78a86ada1528' class='xr-section-summary'  title='Expand/collapse section'>Indexes: <span>(0)</span></label><div class='xr-section-inline-details'></div><div class='xr-section-details'><ul class='xr-var-list'></ul></div></li><li class='xr-section-item'><input id='section-3aac71e0-890b-4bdb-872a-1f3807aa47b7' class='xr-section-summary-in' type='checkbox' disabled ><label for='section-3aac71e0-890b-4bdb-872a-1f3807aa47b7' class='xr-section-summary'  title='Expand/collapse section'>Attributes: <span>(0)</span></label><div class='xr-section-inline-details'></div><div class='xr-section-details'><dl class='xr-attrs'></dl></div></li></ul></div></div>"
      ],
      "text/plain": [
       "<xarray.Dataset> Size: 8B\n",
       "Dimensions:  ()\n",
       "Data variables:\n",
       "    data     int64 8B 401"
      ]
     },
     "execution_count": 24,
     "metadata": {},
     "output_type": "execute_result"
    }
   ],
   "source": [
    "np.sum(res_frnt2)"
   ]
  },
  {
   "cell_type": "markdown",
   "id": "d38c0b31-4d6b-4a44-882a-df111bf944c2",
   "metadata": {},
   "source": [
    "## Numpy"
   ]
  },
  {
   "cell_type": "code",
   "execution_count": 35,
   "id": "9d2ec846-f328-4f16-9837-f5a70992af07",
   "metadata": {},
   "outputs": [
    {
     "data": {
      "text/plain": [
       "(64, 64)"
      ]
     },
     "execution_count": 35,
     "metadata": {},
     "output_type": "execute_result"
    }
   ],
   "source": [
    "res_frnt_np = pyboa.front_thresh(Divb2)\n",
    "res_frnt_np.shape"
   ]
  },
  {
   "cell_type": "code",
   "execution_count": 23,
   "id": "2fb3448f-16f2-4e7f-b36f-31441227936a",
   "metadata": {},
   "outputs": [
    {
     "data": {
      "text/plain": [
       "np.int64(401)"
      ]
     },
     "execution_count": 23,
     "metadata": {},
     "output_type": "execute_result"
    }
   ],
   "source": [
    "np.sum(res_frnt_np)"
   ]
  },
  {
   "cell_type": "code",
   "execution_count": 31,
   "id": "9428a600-9968-4ea1-914f-62737c56d42f",
   "metadata": {},
   "outputs": [
    {
     "data": {
      "text/plain": [
       "np.True_"
      ]
     },
     "execution_count": 31,
     "metadata": {},
     "output_type": "execute_result"
    }
   ],
   "source": [
    "np.all(res_frnt_np == res_frnt2.isel(time=0).data.data)"
   ]
  },
  {
   "cell_type": "code",
   "execution_count": 38,
   "id": "82f6b3f7-460b-428e-b4fc-bdad5ef26133",
   "metadata": {},
   "outputs": [
    {
     "data": {
      "image/png": "[encoded data removed]",
      "text/plain": [
       "<Figure size 500x500 with 1 Axes>"
      ]
     },
     "metadata": {},
     "output_type": "display_data"
    }
   ],
   "source": [
    "plot_fronts(idx, res_frnt_np)"
   ]
  },
  {
   "cell_type": "markdown",
   "id": "3ab9b70b-4854-44fb-9208-561bfb55b972",
   "metadata": {},
   "source": [
    "## Crop"
   ]
  },
  {
   "cell_type": "code",
   "execution_count": 40,
   "id": "231b5f55-fc2b-4052-8a37-c57eaccc9773",
   "metadata": {},
   "outputs": [
    {
     "name": "stderr",
     "output_type": "stream",
     "text": [
      "/home/xavier/Projects/Oceanography/python/fronts/fronts/pyboa/pyboa.py:414: AccessorRegistrationWarning: registration of accessor <class 'fronts.pyboa.pyboa.pyBOA'> under name 'pyBOA' for type <class 'xarray.core.dataset.Dataset'> is overriding a preexisting attribute with the same name.\n",
      "  @xr.register_dataset_accessor(\"pyBOA\")\n",
      "/home/xavier/Projects/Oceanography/python/fronts/fronts/pyboa/pyboa.py:413: AccessorRegistrationWarning: registration of accessor <class 'fronts.pyboa.pyboa.pyBOA'> under name 'pyBOA' for type <class 'xarray.core.dataarray.DataArray'> is overriding a preexisting attribute with the same name.\n",
      "  @xr.register_dataarray_accessor(\"pyBOA\")\n"
     ]
    }
   ],
   "source": [
    "reload(pyboa)\n",
    "res_frnt_crop = pyboa.cropping(res_frnt_np)"
   ]
  },
  {
   "cell_type": "code",
   "execution_count": 41,
   "id": "4e56bd75-4284-4c79-9689-591f2721ff60",
   "metadata": {},
   "outputs": [
    {
     "data": {
      "image/png": "[encoded data removed]",
      "text/plain": [
       "<Figure size 500x500 with 1 Axes>"
      ]
     },
     "metadata": {},
     "output_type": "display_data"
    }
   ],
   "source": [
    "plot_fronts(idx, res_frnt_crop)"
   ]
  },
  {
   "cell_type": "code",
   "execution_count": null,
   "id": "b95f4050-ac86-4303-974b-44f1a15f9089",
   "metadata": {},
   "outputs": [],
   "source": []
  }
 ],
 "metadata": {
  "kernelspec": {
   "display_name": "Python 3 (ipykernel)",
   "language": "python",
   "name": "python3"
  },
  "language_info": {
   "codemirror_mode": {
    "name": "ipython",
    "version": 3
   },
   "file_extension": ".py",
   "mimetype": "text/x-python",
   "name": "python",
   "nbconvert_exporter": "python",
   "pygments_lexer": "ipython3",
   "version": "3.12.2"
  }
 },
 "nbformat": 4,
 "nbformat_minor": 5
}
