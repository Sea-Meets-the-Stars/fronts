{
 "cells": [
  {
   "cell_type": "markdown",
   "id": "3e0834ed-6c1f-46f8-b7a7-00e6f2dbc77c",
   "metadata": {},
   "source": [
    "# Classifying Fronts 2: In code"
   ]
  },
  {
   "cell_type": "code",
   "execution_count": 4,
   "id": "ba6fcb95-b406-4ad5-8ad0-69cfc1e61ca7",
   "metadata": {},
   "outputs": [],
   "source": [
    "# imports\n",
    "from importlib import reload\n",
    "import os\n",
    "\n",
    "import numpy as np\n",
    "import h5py\n",
    "import xarray\n",
    "import pandas\n",
    "\n",
    "from matplotlib import pyplot as plt\n",
    "import matplotlib as mpl\n",
    "from matplotlib.ticker import MultipleLocator\n",
    "import matplotlib.gridspec as gridspec\n",
    "import seaborn as sns\n",
    "\n",
    "from skimage import morphology\n",
    "\n",
    "from wrangler.plotting import cutout\n",
    "from wrangler.ogcm import llc as wr_llc\n",
    "\n",
    "from fronts.dbof import utils as dbof_utils\n",
    "from fronts.dbof import io as dbof_io\n",
    "from fronts.finding import dev as finding_dev\n",
    "from fronts.finding import params as finding_params"
   ]
  },
  {
   "cell_type": "markdown",
   "id": "21cf788c-0d30-4d75-9402-a8b4faf9f20d",
   "metadata": {},
   "source": [
    "# DBOF_dev"
   ]
  },
  {
   "cell_type": "code",
   "execution_count": 9,
   "id": "7c5cc6dd-2a7c-49c3-90ed-f847c06bf490",
   "metadata": {},
   "outputs": [],
   "source": [
    "dbof_dev_file = '../fronts/runs/dbof/dev/llc4320_dbof_dev.json'"
   ]
  },
  {
   "cell_type": "markdown",
   "id": "8b03d8a4-7b40-4bc3-b1df-cba0494f6012",
   "metadata": {},
   "source": [
    "# Load up (old files for laptop ease)"
   ]
  },
  {
   "cell_type": "code",
   "execution_count": 2,
   "id": "0ab5a40c-d0ab-47bc-ada3-6430cb4bd06a",
   "metadata": {},
   "outputs": [],
   "source": [
    "cutouts, tbl = finding_dev.load_test_data()"
   ]
  },
  {
   "cell_type": "code",
   "execution_count": 5,
   "id": "f4ab11d1-f316-4bde-8de3-694ac4daca78",
   "metadata": {},
   "outputs": [],
   "source": [
    "front_params = finding_params.thin_weak_params"
   ]
  },
  {
   "cell_type": "markdown",
   "id": "fb6c9a88-52d5-4ea8-9ff2-6d9b5fce7a81",
   "metadata": {},
   "source": [
    "# Example"
   ]
  },
  {
   "cell_type": "code",
   "execution_count": 3,
   "id": "c2695907-0a04-46bf-90d3-bdae85f38106",
   "metadata": {},
   "outputs": [],
   "source": [
    "idx = 500\n",
    "div_sst, sst, sss, Divb2 = finding_dev.parse_idx(cutouts, idx)"
   ]
  },
  {
   "cell_type": "markdown",
   "id": "5bc8f48f-1cb8-43b9-9092-7079aaeb627a",
   "metadata": {},
   "source": [
    "## Find the fronts"
   ]
  },
  {
   "cell_type": "code",
   "execution_count": 6,
   "id": "4aa2a2b2-762a-4d29-9be8-c14e95b7bb8f",
   "metadata": {},
   "outputs": [],
   "source": [
    "fronts = finding_dev.algorithms.fronts_from_divb2(Divb2, **front_params)"
   ]
  },
  {
   "cell_type": "markdown",
   "id": "51bbaaec-14e5-49b6-8d41-1aaf06a03dd8",
   "metadata": {},
   "source": [
    "## Label"
   ]
  },
  {
   "cell_type": "code",
   "execution_count": 7,
   "id": "9d399298-9c2c-46c3-a2cd-3c385bf4f4bf",
   "metadata": {},
   "outputs": [],
   "source": [
    "flabels = morphology.label(fronts, connectivity=2)"
   ]
  },
  {
   "cell_type": "code",
   "execution_count": 9,
   "id": "ac8a7588-b627-47b9-934b-de55a08269bd",
   "metadata": {},
   "outputs": [
    {
     "data": {
      "text/plain": [
       "array([0, 1, 2, 3, 4, 5, 6, 7, 8, 9], dtype=int32)"
      ]
     },
     "execution_count": 9,
     "metadata": {},
     "output_type": "execute_result"
    }
   ],
   "source": [
    "np.unique(flabels)"
   ]
  },
  {
   "cell_type": "markdown",
   "id": "c9340c5a-71c9-4961-b929-688e8f4b59a5",
   "metadata": {},
   "source": [
    "# Stats"
   ]
  },
  {
   "cell_type": "code",
   "execution_count": 40,
   "id": "9ef4520b-0e74-420a-b0ee-8c7207bd4eb2",
   "metadata": {},
   "outputs": [],
   "source": [
    "def avg_field(field:np.ndarray, flabels:np.ndarray):\n",
    "    avgs = []\n",
    "    Npixs = []\n",
    "    uni_labels = np.unique(flabels)[1:]\n",
    "    for ss in uni_labels:\n",
    "        ipix = flabels == ss\n",
    "        Npix = np.sum(ipix)\n",
    "        stat = np.sum(ipix * field) / Npix\n",
    "        # Save\n",
    "        avgs.append(stat)\n",
    "        Npixs.append(Npix)    \n",
    "    # Return\n",
    "    return avgs"
   ]
  },
  {
   "cell_type": "code",
   "execution_count": 16,
   "id": "f2ebc7e4-383e-472a-8e25-4b8e4495c88a",
   "metadata": {},
   "outputs": [],
   "source": [
    "stats = {}"
   ]
  },
  {
   "cell_type": "code",
   "execution_count": 17,
   "id": "cfcfa6cb-1785-4fff-86c9-bde1f1bf5c88",
   "metadata": {},
   "outputs": [],
   "source": [
    "uni_labels = np.unique(flabels)[1:]\n",
    "stats['FID'] = uni_labels"
   ]
  },
  {
   "cell_type": "markdown",
   "id": "fc0b911e-6ad3-47ee-8a86-123c0d64dc9b",
   "metadata": {},
   "source": [
    "## Simple stat (<Divb^2>)"
   ]
  },
  {
   "cell_type": "code",
   "execution_count": 42,
   "id": "4c9306df-4c71-409c-8586-fc67d8d5d8b2",
   "metadata": {},
   "outputs": [],
   "source": [
    "#avg_Divb2 = []\n",
    "#Npixs = []\n",
    "#for ss in uni_labels:\n",
    "#    ipix = flabels == ss\n",
    "#    Npix = np.sum(ipix)\n",
    "#    stat = np.sum(ipix * Divb2) / Npix\n",
    "#    # Save\n",
    "#    avg_Divb2.append(stat)\n",
    "#    Npixs.append(Npix)\n",
    "#\n",
    "avg_Divb2 = avg_field(Divb2, flabels)\n",
    "# \n",
    "stats['avg_Divb2'] = avg_Divb2"
   ]
  },
  {
   "cell_type": "code",
   "execution_count": 19,
   "id": "81263ac6-7e2e-48bd-918f-0ffafbc3e01c",
   "metadata": {},
   "outputs": [],
   "source": [
    "stats['UID'] = [idx]*uni_labels.size"
   ]
  },
  {
   "cell_type": "markdown",
   "id": "df633079-76bb-4409-b4d9-341ff87ec35f",
   "metadata": {},
   "source": [
    "# Length"
   ]
  },
  {
   "cell_type": "code",
   "execution_count": 27,
   "id": "2a828cd1-104a-4fe9-942b-337756a09c98",
   "metadata": {},
   "outputs": [],
   "source": [
    "stats['Npix'] = Npixs"
   ]
  },
  {
   "cell_type": "markdown",
   "id": "1bf6922f-aa99-4eb7-b39c-a08597d396c0",
   "metadata": {},
   "source": [
    "# Lat/lon"
   ]
  },
  {
   "cell_type": "code",
   "execution_count": 28,
   "id": "7eef8e42-d6f4-4b3f-9935-cde07afedeb9",
   "metadata": {},
   "outputs": [],
   "source": [
    "# Prepping\n",
    "R_earth = 6371. # km\n",
    "circum = 2 * np.pi* R_earth\n",
    "km_deg = circum / 360."
   ]
  },
  {
   "cell_type": "code",
   "execution_count": 30,
   "id": "ed9e4795-cc41-4435-b8d9-289977fccd46",
   "metadata": {},
   "outputs": [],
   "source": [
    "dx = 2.25 # km/pixel"
   ]
  },
  {
   "cell_type": "code",
   "execution_count": 34,
   "id": "9313b2d6-bee2-4a84-8b2f-d1fbe851585f",
   "metadata": {},
   "outputs": [
    {
     "data": {
      "text/plain": [
       "111.19492664455873"
      ]
     },
     "execution_count": 34,
     "metadata": {},
     "output_type": "execute_result"
    }
   ],
   "source": [
    "km_deg"
   ]
  },
  {
   "cell_type": "markdown",
   "id": "a99a88eb-e4a8-4859-8d19-7fc616bdbafd",
   "metadata": {},
   "source": [
    "## Generate a lat/lon image"
   ]
  },
  {
   "cell_type": "code",
   "execution_count": 32,
   "id": "3a8edac8-6070-4b4a-925a-3f51e05217eb",
   "metadata": {},
   "outputs": [],
   "source": [
    "lat_0, lon_0 = 32., 110.  # Making these up\n",
    "cutout_size = 64"
   ]
  },
  {
   "cell_type": "code",
   "execution_count": 37,
   "id": "f36e8223-936b-4a55-aac6-c82466163991",
   "metadata": {},
   "outputs": [
    {
     "data": {
      "text/plain": [
       "np.float64(6.123233995736766e-17)"
      ]
     },
     "execution_count": 37,
     "metadata": {},
     "output_type": "execute_result"
    }
   ],
   "source": [
    "np.cos(90.*np.pi/180)"
   ]
  },
  {
   "cell_type": "code",
   "execution_count": 38,
   "id": "2af9abb0-3781-4445-9af2-ebcc14941ef2",
   "metadata": {},
   "outputs": [],
   "source": [
    "lats = lat_0 + np.arange(cutout_size)*dx / km_deg\n",
    "lat_img = np.outer(lats, np.ones(cutout_size))\n",
    "# lons (approximate)\n",
    "lons = lon_0 + np.arange(cutout_size)*dx / (km_deg * np.cos(lat_0*np.pi/180.))\n",
    "lon_img = np.outer(np.ones(cutout_size), lons)"
   ]
  },
  {
   "cell_type": "code",
   "execution_count": 45,
   "id": "21103852-4e5f-4f50-856e-11f7aa9eefa5",
   "metadata": {},
   "outputs": [],
   "source": [
    "avg_lats = avg_field(lats, flabels)\n",
    "avg_lons = avg_field(lons, flabels)"
   ]
  },
  {
   "cell_type": "code",
   "execution_count": 46,
   "id": "cced99e6-e340-429c-91aa-7a7e2c80ec4b",
   "metadata": {},
   "outputs": [],
   "source": [
    "stats['lats'] = avg_lats\n",
    "stats['lons'] = avg_lons"
   ]
  },
  {
   "cell_type": "markdown",
   "id": "e0998bf8-304c-4b09-a563-9ec3b643b1a7",
   "metadata": {},
   "source": [
    "# Construct a Table"
   ]
  },
  {
   "cell_type": "code",
   "execution_count": 47,
   "id": "9d9a221e-cc98-4877-a35f-a210107c4d36",
   "metadata": {},
   "outputs": [
    {
     "data": {
      "text/html": [
       "<div>\n",
       "<style scoped>\n",
       "    .dataframe tbody tr th:only-of-type {\n",
       "        vertical-align: middle;\n",
       "    }\n",
       "\n",
       "    .dataframe tbody tr th {\n",
       "        vertical-align: top;\n",
       "    }\n",
       "\n",
       "    .dataframe thead th {\n",
       "        text-align: right;\n",
       "    }\n",
       "</style>\n",
       "<table border=\"1\" class=\"dataframe\">\n",
       "  <thead>\n",
       "    <tr style=\"text-align: right;\">\n",
       "      <th></th>\n",
       "      <th>FID</th>\n",
       "      <th>avg_Divb2</th>\n",
       "      <th>UID</th>\n",
       "      <th>Npix</th>\n",
       "      <th>lats</th>\n",
       "      <th>lons</th>\n",
       "    </tr>\n",
       "  </thead>\n",
       "  <tbody>\n",
       "    <tr>\n",
       "      <th>0</th>\n",
       "      <td>1</td>\n",
       "      <td>2.133320e-14</td>\n",
       "      <td>500</td>\n",
       "      <td>6</td>\n",
       "      <td>32.320383</td>\n",
       "      <td>110.377789</td>\n",
       "    </tr>\n",
       "    <tr>\n",
       "      <th>1</th>\n",
       "      <td>2</td>\n",
       "      <td>8.636720e-14</td>\n",
       "      <td>500</td>\n",
       "      <td>68</td>\n",
       "      <td>32.626682</td>\n",
       "      <td>110.738970</td>\n",
       "    </tr>\n",
       "    <tr>\n",
       "      <th>2</th>\n",
       "      <td>3</td>\n",
       "      <td>2.856012e-14</td>\n",
       "      <td>500</td>\n",
       "      <td>7</td>\n",
       "      <td>32.283286</td>\n",
       "      <td>110.334045</td>\n",
       "    </tr>\n",
       "    <tr>\n",
       "      <th>3</th>\n",
       "      <td>4</td>\n",
       "      <td>2.496077e-14</td>\n",
       "      <td>500</td>\n",
       "      <td>7</td>\n",
       "      <td>32.121408</td>\n",
       "      <td>110.143162</td>\n",
       "    </tr>\n",
       "    <tr>\n",
       "      <th>4</th>\n",
       "      <td>5</td>\n",
       "      <td>1.613183e-14</td>\n",
       "      <td>500</td>\n",
       "      <td>16</td>\n",
       "      <td>32.752479</td>\n",
       "      <td>110.887307</td>\n",
       "    </tr>\n",
       "    <tr>\n",
       "      <th>5</th>\n",
       "      <td>6</td>\n",
       "      <td>1.999716e-14</td>\n",
       "      <td>500</td>\n",
       "      <td>19</td>\n",
       "      <td>32.431319</td>\n",
       "      <td>110.508602</td>\n",
       "    </tr>\n",
       "    <tr>\n",
       "      <th>6</th>\n",
       "      <td>7</td>\n",
       "      <td>1.748580e-14</td>\n",
       "      <td>500</td>\n",
       "      <td>10</td>\n",
       "      <td>32.214488</td>\n",
       "      <td>110.252920</td>\n",
       "    </tr>\n",
       "    <tr>\n",
       "      <th>7</th>\n",
       "      <td>8</td>\n",
       "      <td>2.316236e-14</td>\n",
       "      <td>500</td>\n",
       "      <td>9</td>\n",
       "      <td>32.002248</td>\n",
       "      <td>110.002651</td>\n",
       "    </tr>\n",
       "    <tr>\n",
       "      <th>8</th>\n",
       "      <td>9</td>\n",
       "      <td>1.843156e-14</td>\n",
       "      <td>500</td>\n",
       "      <td>7</td>\n",
       "      <td>32.870094</td>\n",
       "      <td>111.025996</td>\n",
       "    </tr>\n",
       "  </tbody>\n",
       "</table>\n",
       "</div>"
      ],
      "text/plain": [
       "   FID     avg_Divb2  UID  Npix       lats        lons\n",
       "0    1  2.133320e-14  500     6  32.320383  110.377789\n",
       "1    2  8.636720e-14  500    68  32.626682  110.738970\n",
       "2    3  2.856012e-14  500     7  32.283286  110.334045\n",
       "3    4  2.496077e-14  500     7  32.121408  110.143162\n",
       "4    5  1.613183e-14  500    16  32.752479  110.887307\n",
       "5    6  1.999716e-14  500    19  32.431319  110.508602\n",
       "6    7  1.748580e-14  500    10  32.214488  110.252920\n",
       "7    8  2.316236e-14  500     9  32.002248  110.002651\n",
       "8    9  1.843156e-14  500     7  32.870094  111.025996"
      ]
     },
     "execution_count": 47,
     "metadata": {},
     "output_type": "execute_result"
    }
   ],
   "source": [
    "df = pandas.DataFrame(stats)\n",
    "df"
   ]
  },
  {
   "cell_type": "code",
   "execution_count": 24,
   "id": "e94f270b-c452-4356-acca-c870842faba4",
   "metadata": {},
   "outputs": [
    {
     "data": {
      "text/html": [
       "<div>\n",
       "<style scoped>\n",
       "    .dataframe tbody tr th:only-of-type {\n",
       "        vertical-align: middle;\n",
       "    }\n",
       "\n",
       "    .dataframe tbody tr th {\n",
       "        vertical-align: top;\n",
       "    }\n",
       "\n",
       "    .dataframe thead th {\n",
       "        text-align: right;\n",
       "    }\n",
       "</style>\n",
       "<table border=\"1\" class=\"dataframe\">\n",
       "  <thead>\n",
       "    <tr style=\"text-align: right;\">\n",
       "      <th></th>\n",
       "      <th>FID</th>\n",
       "      <th>avg_Divb2</th>\n",
       "      <th>UID</th>\n",
       "    </tr>\n",
       "  </thead>\n",
       "  <tbody>\n",
       "    <tr>\n",
       "      <th>0</th>\n",
       "      <td>1</td>\n",
       "      <td>2.133320e-14</td>\n",
       "      <td>500</td>\n",
       "    </tr>\n",
       "    <tr>\n",
       "      <th>1</th>\n",
       "      <td>2</td>\n",
       "      <td>8.636720e-14</td>\n",
       "      <td>500</td>\n",
       "    </tr>\n",
       "    <tr>\n",
       "      <th>2</th>\n",
       "      <td>3</td>\n",
       "      <td>2.856012e-14</td>\n",
       "      <td>500</td>\n",
       "    </tr>\n",
       "    <tr>\n",
       "      <th>3</th>\n",
       "      <td>4</td>\n",
       "      <td>2.496077e-14</td>\n",
       "      <td>500</td>\n",
       "    </tr>\n",
       "    <tr>\n",
       "      <th>4</th>\n",
       "      <td>5</td>\n",
       "      <td>1.613183e-14</td>\n",
       "      <td>500</td>\n",
       "    </tr>\n",
       "    <tr>\n",
       "      <th>5</th>\n",
       "      <td>6</td>\n",
       "      <td>1.999716e-14</td>\n",
       "      <td>500</td>\n",
       "    </tr>\n",
       "    <tr>\n",
       "      <th>6</th>\n",
       "      <td>7</td>\n",
       "      <td>1.748580e-14</td>\n",
       "      <td>500</td>\n",
       "    </tr>\n",
       "    <tr>\n",
       "      <th>7</th>\n",
       "      <td>8</td>\n",
       "      <td>2.316236e-14</td>\n",
       "      <td>500</td>\n",
       "    </tr>\n",
       "    <tr>\n",
       "      <th>8</th>\n",
       "      <td>9</td>\n",
       "      <td>1.843156e-14</td>\n",
       "      <td>500</td>\n",
       "    </tr>\n",
       "    <tr>\n",
       "      <th>9</th>\n",
       "      <td>1</td>\n",
       "      <td>2.133320e-14</td>\n",
       "      <td>500</td>\n",
       "    </tr>\n",
       "    <tr>\n",
       "      <th>10</th>\n",
       "      <td>2</td>\n",
       "      <td>8.636720e-14</td>\n",
       "      <td>500</td>\n",
       "    </tr>\n",
       "    <tr>\n",
       "      <th>11</th>\n",
       "      <td>3</td>\n",
       "      <td>2.856012e-14</td>\n",
       "      <td>500</td>\n",
       "    </tr>\n",
       "    <tr>\n",
       "      <th>12</th>\n",
       "      <td>4</td>\n",
       "      <td>2.496077e-14</td>\n",
       "      <td>500</td>\n",
       "    </tr>\n",
       "    <tr>\n",
       "      <th>13</th>\n",
       "      <td>5</td>\n",
       "      <td>1.613183e-14</td>\n",
       "      <td>500</td>\n",
       "    </tr>\n",
       "    <tr>\n",
       "      <th>14</th>\n",
       "      <td>6</td>\n",
       "      <td>1.999716e-14</td>\n",
       "      <td>500</td>\n",
       "    </tr>\n",
       "    <tr>\n",
       "      <th>15</th>\n",
       "      <td>7</td>\n",
       "      <td>1.748580e-14</td>\n",
       "      <td>500</td>\n",
       "    </tr>\n",
       "    <tr>\n",
       "      <th>16</th>\n",
       "      <td>8</td>\n",
       "      <td>2.316236e-14</td>\n",
       "      <td>500</td>\n",
       "    </tr>\n",
       "    <tr>\n",
       "      <th>17</th>\n",
       "      <td>9</td>\n",
       "      <td>1.843156e-14</td>\n",
       "      <td>500</td>\n",
       "    </tr>\n",
       "  </tbody>\n",
       "</table>\n",
       "</div>"
      ],
      "text/plain": [
       "    FID     avg_Divb2  UID\n",
       "0     1  2.133320e-14  500\n",
       "1     2  8.636720e-14  500\n",
       "2     3  2.856012e-14  500\n",
       "3     4  2.496077e-14  500\n",
       "4     5  1.613183e-14  500\n",
       "5     6  1.999716e-14  500\n",
       "6     7  1.748580e-14  500\n",
       "7     8  2.316236e-14  500\n",
       "8     9  1.843156e-14  500\n",
       "9     1  2.133320e-14  500\n",
       "10    2  8.636720e-14  500\n",
       "11    3  2.856012e-14  500\n",
       "12    4  2.496077e-14  500\n",
       "13    5  1.613183e-14  500\n",
       "14    6  1.999716e-14  500\n",
       "15    7  1.748580e-14  500\n",
       "16    8  2.316236e-14  500\n",
       "17    9  1.843156e-14  500"
      ]
     },
     "execution_count": 24,
     "metadata": {},
     "output_type": "execute_result"
    }
   ],
   "source": [
    "df2 = pandas.DataFrame(stats)\n",
    "df3 = pandas.concat([df, df2], ignore_index=True)\n",
    "df3"
   ]
  },
  {
   "cell_type": "markdown",
   "id": "4b0d6d50-bc47-4be5-bdaf-f59370a7709e",
   "metadata": {},
   "source": [
    "----"
   ]
  },
  {
   "cell_type": "code",
   "execution_count": 50,
   "id": "208f0902-ac08-4ac8-88d5-1affa973b6fe",
   "metadata": {},
   "outputs": [
    {
     "data": {
      "text/plain": [
       "array([0, 1, 2, 3, 4, 5, 6, 7, 8, 9], dtype=int32)"
      ]
     },
     "execution_count": 50,
     "metadata": {},
     "output_type": "execute_result"
    }
   ],
   "source": [
    "np.unique(flabels)"
   ]
  },
  {
   "cell_type": "code",
   "execution_count": 52,
   "id": "1744f3e9-c278-416b-8eb4-81a393123958",
   "metadata": {},
   "outputs": [
    {
     "data": {
      "text/plain": [
       "(9, 64, 64)"
      ]
     },
     "execution_count": 52,
     "metadata": {},
     "output_type": "execute_result"
    }
   ],
   "source": [
    "fmasks = [flabels == flabel for flabel in np.unique(flabels)[1:]]\n",
    "fmasks = np.stack(fmasks)\n",
    "fmasks.shape"
   ]
  },
  {
   "cell_type": "code",
   "execution_count": 53,
   "id": "52fd5b29-47e4-45de-8319-d4ebde3201c7",
   "metadata": {},
   "outputs": [
    {
     "data": {
      "text/plain": [
       "(64, 64)"
      ]
     },
     "execution_count": 53,
     "metadata": {},
     "output_type": "execute_result"
    }
   ],
   "source": [
    "Divb2.shape"
   ]
  },
  {
   "cell_type": "code",
   "execution_count": 55,
   "id": "2de0f464-8c28-4dee-8f78-76785e13cd75",
   "metadata": {},
   "outputs": [
    {
     "data": {
      "text/plain": [
       "\u001b[0;31mCall signature:\u001b[0m  \u001b[0mnp\u001b[0m\u001b[0;34m.\u001b[0m\u001b[0mmultiply\u001b[0m\u001b[0;34m(\u001b[0m\u001b[0;34m*\u001b[0m\u001b[0margs\u001b[0m\u001b[0;34m,\u001b[0m \u001b[0;34m**\u001b[0m\u001b[0mkwargs\u001b[0m\u001b[0;34m)\u001b[0m\u001b[0;34m\u001b[0m\u001b[0;34m\u001b[0m\u001b[0m\n",
       "\u001b[0;31mType:\u001b[0m            ufunc\n",
       "\u001b[0;31mString form:\u001b[0m     <ufunc 'multiply'>\n",
       "\u001b[0;31mFile:\u001b[0m            ~/miniconda3/envs/ocean/lib/python3.12/site-packages/numpy/__init__.py\n",
       "\u001b[0;31mDocstring:\u001b[0m      \n",
       "multiply(x1, x2, /, out=None, *, where=True, casting='same_kind', order='K', dtype=None, subok=True[, signature])\n",
       "\n",
       "Multiply arguments element-wise.\n",
       "\n",
       "Parameters\n",
       "----------\n",
       "x1, x2 : array_like\n",
       "    Input arrays to be multiplied.\n",
       "    If ``x1.shape != x2.shape``, they must be broadcastable to a common\n",
       "    shape (which becomes the shape of the output).\n",
       "out : ndarray, None, or tuple of ndarray and None, optional\n",
       "    A location into which the result is stored. If provided, it must have\n",
       "    a shape that the inputs broadcast to. If not provided or None,\n",
       "    a freshly-allocated array is returned. A tuple (possible only as a\n",
       "    keyword argument) must have length equal to the number of outputs.\n",
       "where : array_like, optional\n",
       "    This condition is broadcast over the input. At locations where the\n",
       "    condition is True, the `out` array will be set to the ufunc result.\n",
       "    Elsewhere, the `out` array will retain its original value.\n",
       "    Note that if an uninitialized `out` array is created via the default\n",
       "    ``out=None``, locations within it where the condition is False will\n",
       "    remain uninitialized.\n",
       "**kwargs\n",
       "    For other keyword-only arguments, see the\n",
       "    :ref:`ufunc docs <ufuncs.kwargs>`.\n",
       "\n",
       "Returns\n",
       "-------\n",
       "y : ndarray\n",
       "    The product of `x1` and `x2`, element-wise.\n",
       "    This is a scalar if both `x1` and `x2` are scalars.\n",
       "\n",
       "Notes\n",
       "-----\n",
       "Equivalent to `x1` * `x2` in terms of array broadcasting.\n",
       "\n",
       "Examples\n",
       "--------\n",
       ">>> np.multiply(2.0, 4.0)\n",
       "8.0\n",
       "\n",
       ">>> x1 = np.arange(9.0).reshape((3, 3))\n",
       ">>> x2 = np.arange(3.0)\n",
       ">>> np.multiply(x1, x2)\n",
       "array([[  0.,   1.,   4.],\n",
       "       [  0.,   4.,  10.],\n",
       "       [  0.,   7.,  16.]])\n",
       "\n",
       "The ``*`` operator can be used as a shorthand for ``np.multiply`` on\n",
       "ndarrays.\n",
       "\n",
       ">>> x1 = np.arange(9.0).reshape((3, 3))\n",
       ">>> x2 = np.arange(3.0)\n",
       ">>> x1 * x2\n",
       "array([[  0.,   1.,   4.],\n",
       "       [  0.,   4.,  10.],\n",
       "       [  0.,   7.,  16.]])\n",
       "\u001b[0;31mClass docstring:\u001b[0m\n",
       "Functions that operate element by element on whole arrays.\n",
       "\n",
       "To see the documentation for a specific ufunc, use `info`.  For\n",
       "example, ``np.info(np.sin)``.  Because ufuncs are written in C\n",
       "(for speed) and linked into Python with NumPy's ufunc facility,\n",
       "Python's help() function finds this page whenever help() is called\n",
       "on a ufunc.\n",
       "\n",
       "A detailed explanation of ufuncs can be found in the docs for :ref:`ufuncs`.\n",
       "\n",
       "**Calling ufuncs:** ``op(*x[, out], where=True, **kwargs)``\n",
       "\n",
       "Apply `op` to the arguments `*x` elementwise, broadcasting the arguments.\n",
       "\n",
       "The broadcasting rules are:\n",
       "\n",
       "* Dimensions of length 1 may be prepended to either array.\n",
       "* Arrays may be repeated along dimensions of length 1.\n",
       "\n",
       "Parameters\n",
       "----------\n",
       "*x : array_like\n",
       "    Input arrays.\n",
       "out : ndarray, None, or tuple of ndarray and None, optional\n",
       "    Alternate array object(s) in which to put the result; if provided, it\n",
       "    must have a shape that the inputs broadcast to. A tuple of arrays\n",
       "    (possible only as a keyword argument) must have length equal to the\n",
       "    number of outputs; use None for uninitialized outputs to be\n",
       "    allocated by the ufunc.\n",
       "where : array_like, optional\n",
       "    This condition is broadcast over the input. At locations where the\n",
       "    condition is True, the `out` array will be set to the ufunc result.\n",
       "    Elsewhere, the `out` array will retain its original value.\n",
       "    Note that if an uninitialized `out` array is created via the default\n",
       "    ``out=None``, locations within it where the condition is False will\n",
       "    remain uninitialized.\n",
       "**kwargs\n",
       "    For other keyword-only arguments, see the :ref:`ufunc docs <ufuncs.kwargs>`.\n",
       "\n",
       "Returns\n",
       "-------\n",
       "r : ndarray or tuple of ndarray\n",
       "    `r` will have the shape that the arrays in `x` broadcast to; if `out` is\n",
       "    provided, it will be returned. If not, `r` will be allocated and\n",
       "    may contain uninitialized values. If the function has more than one\n",
       "    output, then the result will be a tuple of arrays."
      ]
     },
     "metadata": {},
     "output_type": "display_data"
    }
   ],
   "source": [
    "np.multiply?"
   ]
  },
  {
   "cell_type": "code",
   "execution_count": 58,
   "id": "b91eec50-0463-4f80-94a8-002a79c33162",
   "metadata": {},
   "outputs": [
    {
     "data": {
      "text/plain": [
       "(9, 64, 64)"
      ]
     },
     "execution_count": 58,
     "metadata": {},
     "output_type": "execute_result"
    }
   ],
   "source": [
    "tmp = np.multiply(fmasks, Divb2)\n",
    "tmp.shape"
   ]
  },
  {
   "cell_type": "code",
   "execution_count": 59,
   "id": "d3ec4caa-e2c0-4018-87af-e3c85ffe3e06",
   "metadata": {},
   "outputs": [
    {
     "data": {
      "text/plain": [
       "True"
      ]
     },
     "execution_count": 59,
     "metadata": {},
     "output_type": "execute_result"
    }
   ],
   "source": [
    "np.allclose(tmp[0], fmasks[0]*Divb2)"
   ]
  },
  {
   "cell_type": "code",
   "execution_count": 61,
   "id": "95d58ee6-8178-436a-813f-8d48cb7938f0",
   "metadata": {},
   "outputs": [
    {
     "data": {
      "text/plain": [
       "(9, 64, 64)"
      ]
     },
     "execution_count": 61,
     "metadata": {},
     "output_type": "execute_result"
    }
   ],
   "source": [
    "tmp2 = fmasks * Divb2\n",
    "tmp2.shape"
   ]
  },
  {
   "cell_type": "code",
   "execution_count": 62,
   "id": "17561896-193f-4658-a0cd-4848b25f53bf",
   "metadata": {},
   "outputs": [
    {
     "data": {
      "text/plain": [
       "True"
      ]
     },
     "execution_count": 62,
     "metadata": {},
     "output_type": "execute_result"
    }
   ],
   "source": [
    "np.allclose(tmp[0], tmp2[0])"
   ]
  },
  {
   "cell_type": "code",
   "execution_count": 68,
   "id": "3a41e6b3-4b45-401f-8469-754b16bea213",
   "metadata": {},
   "outputs": [
    {
     "data": {
      "text/plain": [
       "np.float32(1.2799923e-13)"
      ]
     },
     "execution_count": 68,
     "metadata": {},
     "output_type": "execute_result"
    }
   ],
   "source": [
    "np.sum(tmp[0])"
   ]
  },
  {
   "cell_type": "code",
   "execution_count": 64,
   "id": "2016c321-ce3e-4736-95a9-143fc86e9bb2",
   "metadata": {},
   "outputs": [
    {
     "data": {
      "text/plain": [
       "np.float32(1.2799923e-13)"
      ]
     },
     "execution_count": 64,
     "metadata": {},
     "output_type": "execute_result"
    }
   ],
   "source": [
    "np.sum(tmp2[0])"
   ]
  },
  {
   "cell_type": "code",
   "execution_count": 69,
   "id": "3b2f422f-55b4-4bea-ac78-5a749d60b02f",
   "metadata": {},
   "outputs": [
    {
     "data": {
      "text/plain": [
       "\u001b[0;31mSignature:\u001b[0m      \n",
       "\u001b[0mnp\u001b[0m\u001b[0;34m.\u001b[0m\u001b[0munique\u001b[0m\u001b[0;34m(\u001b[0m\u001b[0;34m\u001b[0m\n",
       "\u001b[0;34m\u001b[0m    \u001b[0mar\u001b[0m\u001b[0;34m,\u001b[0m\u001b[0;34m\u001b[0m\n",
       "\u001b[0;34m\u001b[0m    \u001b[0mreturn_index\u001b[0m\u001b[0;34m=\u001b[0m\u001b[0;32mFalse\u001b[0m\u001b[0;34m,\u001b[0m\u001b[0;34m\u001b[0m\n",
       "\u001b[0;34m\u001b[0m    \u001b[0mreturn_inverse\u001b[0m\u001b[0;34m=\u001b[0m\u001b[0;32mFalse\u001b[0m\u001b[0;34m,\u001b[0m\u001b[0;34m\u001b[0m\n",
       "\u001b[0;34m\u001b[0m    \u001b[0mreturn_counts\u001b[0m\u001b[0;34m=\u001b[0m\u001b[0;32mFalse\u001b[0m\u001b[0;34m,\u001b[0m\u001b[0;34m\u001b[0m\n",
       "\u001b[0;34m\u001b[0m    \u001b[0maxis\u001b[0m\u001b[0;34m=\u001b[0m\u001b[0;32mNone\u001b[0m\u001b[0;34m,\u001b[0m\u001b[0;34m\u001b[0m\n",
       "\u001b[0;34m\u001b[0m    \u001b[0;34m*\u001b[0m\u001b[0;34m,\u001b[0m\u001b[0;34m\u001b[0m\n",
       "\u001b[0;34m\u001b[0m    \u001b[0mequal_nan\u001b[0m\u001b[0;34m=\u001b[0m\u001b[0;32mTrue\u001b[0m\u001b[0;34m,\u001b[0m\u001b[0;34m\u001b[0m\n",
       "\u001b[0;34m\u001b[0m\u001b[0;34m)\u001b[0m\u001b[0;34m\u001b[0m\u001b[0;34m\u001b[0m\u001b[0m\n",
       "\u001b[0;31mCall signature:\u001b[0m  \u001b[0mnp\u001b[0m\u001b[0;34m.\u001b[0m\u001b[0munique\u001b[0m\u001b[0;34m(\u001b[0m\u001b[0;34m*\u001b[0m\u001b[0margs\u001b[0m\u001b[0;34m,\u001b[0m \u001b[0;34m**\u001b[0m\u001b[0mkwargs\u001b[0m\u001b[0;34m)\u001b[0m\u001b[0;34m\u001b[0m\u001b[0;34m\u001b[0m\u001b[0m\n",
       "\u001b[0;31mType:\u001b[0m            _ArrayFunctionDispatcher\n",
       "\u001b[0;31mString form:\u001b[0m     <function unique at 0x72dea4246f20>\n",
       "\u001b[0;31mFile:\u001b[0m            ~/miniconda3/envs/ocean/lib/python3.12/site-packages/numpy/lib/_arraysetops_impl.py\n",
       "\u001b[0;31mDocstring:\u001b[0m      \n",
       "Find the unique elements of an array.\n",
       "\n",
       "Returns the sorted unique elements of an array. There are three optional\n",
       "outputs in addition to the unique elements:\n",
       "\n",
       "* the indices of the input array that give the unique values\n",
       "* the indices of the unique array that reconstruct the input array\n",
       "* the number of times each unique value comes up in the input array\n",
       "\n",
       "Parameters\n",
       "----------\n",
       "ar : array_like\n",
       "    Input array. Unless `axis` is specified, this will be flattened if it\n",
       "    is not already 1-D.\n",
       "return_index : bool, optional\n",
       "    If True, also return the indices of `ar` (along the specified axis,\n",
       "    if provided, or in the flattened array) that result in the unique array.\n",
       "return_inverse : bool, optional\n",
       "    If True, also return the indices of the unique array (for the specified\n",
       "    axis, if provided) that can be used to reconstruct `ar`.\n",
       "return_counts : bool, optional\n",
       "    If True, also return the number of times each unique item appears\n",
       "    in `ar`.\n",
       "axis : int or None, optional\n",
       "    The axis to operate on. If None, `ar` will be flattened. If an integer,\n",
       "    the subarrays indexed by the given axis will be flattened and treated\n",
       "    as the elements of a 1-D array with the dimension of the given axis,\n",
       "    see the notes for more details.  Object arrays or structured arrays\n",
       "    that contain objects are not supported if the `axis` kwarg is used. The\n",
       "    default is None.\n",
       "\n",
       "    .. versionadded:: 1.13.0\n",
       "\n",
       "equal_nan : bool, optional\n",
       "    If True, collapses multiple NaN values in the return array into one.\n",
       "\n",
       "    .. versionadded:: 1.24\n",
       "\n",
       "Returns\n",
       "-------\n",
       "unique : ndarray\n",
       "    The sorted unique values.\n",
       "unique_indices : ndarray, optional\n",
       "    The indices of the first occurrences of the unique values in the\n",
       "    original array. Only provided if `return_index` is True.\n",
       "unique_inverse : ndarray, optional\n",
       "    The indices to reconstruct the original array from the\n",
       "    unique array. Only provided if `return_inverse` is True.\n",
       "unique_counts : ndarray, optional\n",
       "    The number of times each of the unique values comes up in the\n",
       "    original array. Only provided if `return_counts` is True.\n",
       "\n",
       "    .. versionadded:: 1.9.0\n",
       "\n",
       "See Also\n",
       "--------\n",
       "repeat : Repeat elements of an array.\n",
       "\n",
       "Notes\n",
       "-----\n",
       "When an axis is specified the subarrays indexed by the axis are sorted.\n",
       "This is done by making the specified axis the first dimension of the array\n",
       "(move the axis to the first dimension to keep the order of the other axes)\n",
       "and then flattening the subarrays in C order. The flattened subarrays are\n",
       "then viewed as a structured type with each element given a label, with the\n",
       "effect that we end up with a 1-D array of structured types that can be\n",
       "treated in the same way as any other 1-D array. The result is that the\n",
       "flattened subarrays are sorted in lexicographic order starting with the\n",
       "first element.\n",
       "\n",
       ".. versionchanged: 1.21\n",
       "    If nan values are in the input array, a single nan is put\n",
       "    to the end of the sorted unique values.\n",
       "\n",
       "    Also for complex arrays all NaN values are considered equivalent\n",
       "    (no matter whether the NaN is in the real or imaginary part).\n",
       "    As the representant for the returned array the smallest one in the\n",
       "    lexicographical order is chosen - see np.sort for how the lexicographical\n",
       "    order is defined for complex arrays.\n",
       "\n",
       ".. versionchanged: 2.0\n",
       "    For multi-dimensional inputs, ``unique_inverse`` is reshaped\n",
       "    such that the input can be reconstructed using\n",
       "    ``np.take(unique, unique_inverse, axis=axis)``. The result is\n",
       "    now not 1-dimensional when ``axis=None``.\n",
       "\n",
       "    Note that in NumPy 2.0.0 a higher dimensional array was returned also\n",
       "    when ``axis`` was not ``None``.  This was reverted, but\n",
       "    ``inverse.reshape(-1)`` can be used to ensure compatibility with both\n",
       "    versions.\n",
       "\n",
       "Examples\n",
       "--------\n",
       ">>> np.unique([1, 1, 2, 2, 3, 3])\n",
       "array([1, 2, 3])\n",
       ">>> a = np.array([[1, 1], [2, 3]])\n",
       ">>> np.unique(a)\n",
       "array([1, 2, 3])\n",
       "\n",
       "Return the unique rows of a 2D array\n",
       "\n",
       ">>> a = np.array([[1, 0, 0], [1, 0, 0], [2, 3, 4]])\n",
       ">>> np.unique(a, axis=0)\n",
       "array([[1, 0, 0], [2, 3, 4]])\n",
       "\n",
       "Return the indices of the original array that give the unique values:\n",
       "\n",
       ">>> a = np.array(['a', 'b', 'b', 'c', 'a'])\n",
       ">>> u, indices = np.unique(a, return_index=True)\n",
       ">>> u\n",
       "array(['a', 'b', 'c'], dtype='<U1')\n",
       ">>> indices\n",
       "array([0, 1, 3])\n",
       ">>> a[indices]\n",
       "array(['a', 'b', 'c'], dtype='<U1')\n",
       "\n",
       "Reconstruct the input array from the unique values and inverse:\n",
       "\n",
       ">>> a = np.array([1, 2, 6, 4, 2, 3, 2])\n",
       ">>> u, indices = np.unique(a, return_inverse=True)\n",
       ">>> u\n",
       "array([1, 2, 3, 4, 6])\n",
       ">>> indices\n",
       "array([0, 1, 4, 3, 1, 2, 1])\n",
       ">>> u[indices]\n",
       "array([1, 2, 6, 4, 2, 3, 2])\n",
       "\n",
       "Reconstruct the input values from the unique values and counts:\n",
       "\n",
       ">>> a = np.array([1, 2, 6, 4, 2, 3, 2])\n",
       ">>> values, counts = np.unique(a, return_counts=True)\n",
       ">>> values\n",
       "array([1, 2, 3, 4, 6])\n",
       ">>> counts\n",
       "array([1, 3, 1, 1, 1])\n",
       ">>> np.repeat(values, counts)\n",
       "array([1, 2, 2, 2, 3, 4, 6])    # original order not preserved\n",
       "\u001b[0;31mClass docstring:\u001b[0m\n",
       "Class to wrap functions with checks for __array_function__ overrides.\n",
       "\n",
       "All arguments are required, and can only be passed by position.\n",
       "\n",
       "Parameters\n",
       "----------\n",
       "dispatcher : function or None\n",
       "    The dispatcher function that returns a single sequence-like object\n",
       "    of all arguments relevant.  It must have the same signature (except\n",
       "    the default values) as the actual implementation.\n",
       "    If ``None``, this is a ``like=`` dispatcher and the\n",
       "    ``_ArrayFunctionDispatcher`` must be called with ``like`` as the\n",
       "    first (additional and positional) argument.\n",
       "implementation : function\n",
       "    Function that implements the operation on NumPy arrays without\n",
       "    overrides.  Arguments passed calling the ``_ArrayFunctionDispatcher``\n",
       "    will be forwarded to this (and the ``dispatcher``) as if using\n",
       "    ``*args, **kwargs``.\n",
       "\n",
       "Attributes\n",
       "----------\n",
       "_implementation : function\n",
       "    The original implementation passed in."
      ]
     },
     "metadata": {},
     "output_type": "display_data"
    }
   ],
   "source": [
    "np.unique?"
   ]
  },
  {
   "cell_type": "code",
   "execution_count": 71,
   "id": "7df290cd-2220-4866-a5eb-6302544b7cff",
   "metadata": {},
   "outputs": [
    {
     "data": {
      "text/plain": [
       "array([ 6, 68,  7,  7, 16, 19, 10,  9,  7])"
      ]
     },
     "execution_count": 71,
     "metadata": {},
     "output_type": "execute_result"
    }
   ],
   "source": [
    "np.sum(fmasks, axis=(1,2))"
   ]
  },
  {
   "cell_type": "code",
   "execution_count": 76,
   "id": "d32e72f2-1f83-40d9-a666-f716ab6bef76",
   "metadata": {},
   "outputs": [
    {
     "data": {
      "text/plain": [
       "(1, 3, 3)"
      ]
     },
     "execution_count": 76,
     "metadata": {},
     "output_type": "execute_result"
    }
   ],
   "source": [
    "tmp3 = np.stack( [np.ones((3,3))])\n",
    "tmp3.shape"
   ]
  },
  {
   "cell_type": "code",
   "execution_count": 79,
   "id": "f1fa46b2-9ebf-479a-9f80-b0749ca9dd18",
   "metadata": {},
   "outputs": [
    {
     "data": {
      "text/plain": [
       "array([9.])"
      ]
     },
     "execution_count": 79,
     "metadata": {},
     "output_type": "execute_result"
    }
   ],
   "source": [
    "np.sum(tmp3, axis=(1,2))"
   ]
  },
  {
   "cell_type": "markdown",
   "id": "46e329f7-5fcf-4b42-9c61-34929f7c68a1",
   "metadata": {},
   "source": [
    "----"
   ]
  },
  {
   "cell_type": "code",
   "execution_count": 80,
   "id": "c95652f7-7493-411c-964b-40fd9cb97bbc",
   "metadata": {},
   "outputs": [],
   "source": [
    "R_earth = 6371. # km\n",
    "circum = 2 * np.pi* R_earth\n",
    "km_deg = circum / 360."
   ]
  },
  {
   "cell_type": "code",
   "execution_count": 87,
   "id": "fb0468f6-359a-4b5b-a882-ee42fcdd5204",
   "metadata": {},
   "outputs": [
    {
     "data": {
      "text/plain": [
       "(2, 100)"
      ]
     },
     "execution_count": 87,
     "metadata": {},
     "output_type": "execute_result"
    }
   ],
   "source": [
    "ncutouts = 100\n",
    "latlons = np.random.uniform(size=(2,ncutouts))\n",
    "latlons.shape"
   ]
  },
  {
   "cell_type": "code",
   "execution_count": 84,
   "id": "68a764a5-57e3-4a61-97d5-9e9656e9bf0a",
   "metadata": {},
   "outputs": [],
   "source": [
    "cutout_size = 64\n",
    "dlats = np.arange(cutout_size)*dx / km_deg\n",
    "dlat_img = np.outer(dlats, np.ones(cutout_size))"
   ]
  },
  {
   "cell_type": "code",
   "execution_count": 114,
   "id": "1ba1e46f-0844-4e53-b549-1d390f54b6c8",
   "metadata": {},
   "outputs": [],
   "source": [
    "lats = latlons[0]\n",
    "lats.resize(ncutouts,1,1)\n",
    "lat_imgs = np.ones((ncutouts, cutout_size, cutout_size)) * lats# + dlat_img"
   ]
  },
  {
   "cell_type": "code",
   "execution_count": 115,
   "id": "c86fa373-a728-4a5c-bebe-4d77193e68e1",
   "metadata": {},
   "outputs": [
    {
     "data": {
      "text/plain": [
       "array([[0.22887009, 0.22887009, 0.22887009, ..., 0.22887009, 0.22887009,\n",
       "        0.22887009],\n",
       "       [0.22887009, 0.22887009, 0.22887009, ..., 0.22887009, 0.22887009,\n",
       "        0.22887009],\n",
       "       [0.22887009, 0.22887009, 0.22887009, ..., 0.22887009, 0.22887009,\n",
       "        0.22887009],\n",
       "       ...,\n",
       "       [0.22887009, 0.22887009, 0.22887009, ..., 0.22887009, 0.22887009,\n",
       "        0.22887009],\n",
       "       [0.22887009, 0.22887009, 0.22887009, ..., 0.22887009, 0.22887009,\n",
       "        0.22887009],\n",
       "       [0.22887009, 0.22887009, 0.22887009, ..., 0.22887009, 0.22887009,\n",
       "        0.22887009]])"
      ]
     },
     "execution_count": 115,
     "metadata": {},
     "output_type": "execute_result"
    }
   ],
   "source": [
    "lat_imgs[0]"
   ]
  },
  {
   "cell_type": "code",
   "execution_count": 101,
   "id": "acb79387-7d3f-48b0-a62a-55d1a9ee15f7",
   "metadata": {},
   "outputs": [
    {
     "data": {
      "text/plain": [
       "(100,)"
      ]
     },
     "execution_count": 101,
     "metadata": {},
     "output_type": "execute_result"
    }
   ],
   "source": [
    "lats.shape"
   ]
  },
  {
   "cell_type": "code",
   "execution_count": 102,
   "id": "e165c82f-aecf-4543-bd9d-8362b11f886a",
   "metadata": {},
   "outputs": [
    {
     "data": {
      "text/plain": [
       "(64, 64)"
      ]
     },
     "execution_count": 102,
     "metadata": {},
     "output_type": "execute_result"
    }
   ],
   "source": [
    "dlat_img.shape"
   ]
  },
  {
   "cell_type": "code",
   "execution_count": 104,
   "id": "8d6b3e42-b4b1-4ed3-8165-52ab08e455bf",
   "metadata": {},
   "outputs": [],
   "source": [
    "lons.resize(100,1,1)"
   ]
  },
  {
   "cell_type": "code",
   "execution_count": 108,
   "id": "48682b14-762c-4794-87a7-ba56bc17d86f",
   "metadata": {},
   "outputs": [
    {
     "data": {
      "text/plain": [
       "(100, 1, 1)"
      ]
     },
     "execution_count": 108,
     "metadata": {},
     "output_type": "execute_result"
    }
   ],
   "source": [
    "np.cos(lons * np.pi/180).shape"
   ]
  },
  {
   "cell_type": "code",
   "execution_count": 116,
   "id": "329ce45f-d8e5-49bc-a022-47a66580d9ac",
   "metadata": {},
   "outputs": [],
   "source": [
    "    lon_imgs = np.ones((ncutouts, cutout_size, cutout_size)) * lons\n",
    "    dlons = np.ones((ncutouts, cutout_size, cutout_size)) / np.cos(lons*np.pi/180.)\n",
    "    dlons += dlats"
   ]
  },
  {
   "cell_type": "code",
   "execution_count": 117,
   "id": "8add23f2-63d3-4560-969a-798ccd81c83e",
   "metadata": {},
   "outputs": [
    {
     "data": {
      "text/plain": [
       "(100, 64, 64)"
      ]
     },
     "execution_count": 117,
     "metadata": {},
     "output_type": "execute_result"
    }
   ],
   "source": [
    "dlons.shape"
   ]
  },
  {
   "cell_type": "code",
   "execution_count": 118,
   "id": "a5b6dedb-d519-4f20-ac49-fdc6afc90a55",
   "metadata": {},
   "outputs": [],
   "source": [
    "lon_imgs += dlons"
   ]
  },
  {
   "cell_type": "code",
   "execution_count": null,
   "id": "fb13e613-d6f1-433d-83ac-c4ba0f3c496b",
   "metadata": {},
   "outputs": [],
   "source": []
  }
 ],
 "metadata": {
  "kernelspec": {
   "display_name": "Python 3 (ipykernel)",
   "language": "python",
   "name": "python3"
  },
  "language_info": {
   "codemirror_mode": {
    "name": "ipython",
    "version": 3
   },
   "file_extension": ".py",
   "mimetype": "text/x-python",
   "name": "python",
   "nbconvert_exporter": "python",
   "pygments_lexer": "ipython3",
   "version": "3.12.2"
  }
 },
 "nbformat": 4,
 "nbformat_minor": 5
}
