{
 "cells": [
  {
   "cell_type": "markdown",
   "id": "3e0834ed-6c1f-46f8-b7a7-00e6f2dbc77c",
   "metadata": {},
   "source": [
    "# Classifying Fronts 2: In code"
   ]
  },
  {
   "cell_type": "code",
   "execution_count": 4,
   "id": "ba6fcb95-b406-4ad5-8ad0-69cfc1e61ca7",
   "metadata": {},
   "outputs": [],
   "source": [
    "# imports\n",
    "from importlib import reload\n",
    "import os\n",
    "\n",
    "import numpy as np\n",
    "import h5py\n",
    "import xarray\n",
    "import pandas\n",
    "\n",
    "from matplotlib import pyplot as plt\n",
    "import matplotlib as mpl\n",
    "from matplotlib.ticker import MultipleLocator\n",
    "import matplotlib.gridspec as gridspec\n",
    "import seaborn as sns\n",
    "\n",
    "from skimage import morphology\n",
    "\n",
    "from wrangler.plotting import cutout\n",
    "from wrangler.ogcm import llc as wr_llc\n",
    "\n",
    "from fronts.dbof import utils as dbof_utils\n",
    "from fronts.dbof import io as dbof_io\n",
    "from fronts.finding import dev as finding_dev\n",
    "from fronts.finding import params as finding_params"
   ]
  },
  {
   "cell_type": "markdown",
   "id": "21cf788c-0d30-4d75-9402-a8b4faf9f20d",
   "metadata": {},
   "source": [
    "# DBOF_dev"
   ]
  },
  {
   "cell_type": "code",
   "execution_count": 9,
   "id": "7c5cc6dd-2a7c-49c3-90ed-f847c06bf490",
   "metadata": {},
   "outputs": [],
   "source": [
    "dbof_dev_file = '../fronts/runs/dbof/dev/llc4320_dbof_dev.json'"
   ]
  },
  {
   "cell_type": "markdown",
   "id": "8b03d8a4-7b40-4bc3-b1df-cba0494f6012",
   "metadata": {},
   "source": [
    "# Load up (old files for laptop ease)"
   ]
  },
  {
   "cell_type": "code",
   "execution_count": 2,
   "id": "0ab5a40c-d0ab-47bc-ada3-6430cb4bd06a",
   "metadata": {},
   "outputs": [],
   "source": [
    "cutouts, tbl = finding_dev.load_test_data()"
   ]
  },
  {
   "cell_type": "code",
   "execution_count": 5,
   "id": "f4ab11d1-f316-4bde-8de3-694ac4daca78",
   "metadata": {},
   "outputs": [],
   "source": [
    "front_params = finding_params.thin_weak_params"
   ]
  },
  {
   "cell_type": "markdown",
   "id": "fb6c9a88-52d5-4ea8-9ff2-6d9b5fce7a81",
   "metadata": {},
   "source": [
    "# Example"
   ]
  },
  {
   "cell_type": "code",
   "execution_count": 3,
   "id": "c2695907-0a04-46bf-90d3-bdae85f38106",
   "metadata": {},
   "outputs": [],
   "source": [
    "idx = 500\n",
    "div_sst, sst, sss, Divb2 = finding_dev.parse_idx(cutouts, idx)"
   ]
  },
  {
   "cell_type": "markdown",
   "id": "5bc8f48f-1cb8-43b9-9092-7079aaeb627a",
   "metadata": {},
   "source": [
    "## Find the fronts"
   ]
  },
  {
   "cell_type": "code",
   "execution_count": 6,
   "id": "4aa2a2b2-762a-4d29-9be8-c14e95b7bb8f",
   "metadata": {},
   "outputs": [],
   "source": [
    "fronts = finding_dev.algorithms.fronts_from_divb2(Divb2, **front_params)"
   ]
  },
  {
   "cell_type": "markdown",
   "id": "51bbaaec-14e5-49b6-8d41-1aaf06a03dd8",
   "metadata": {},
   "source": [
    "## Label"
   ]
  },
  {
   "cell_type": "code",
   "execution_count": 7,
   "id": "9d399298-9c2c-46c3-a2cd-3c385bf4f4bf",
   "metadata": {},
   "outputs": [],
   "source": [
    "flabels = morphology.label(fronts, connectivity=2)"
   ]
  },
  {
   "cell_type": "code",
   "execution_count": 9,
   "id": "ac8a7588-b627-47b9-934b-de55a08269bd",
   "metadata": {},
   "outputs": [
    {
     "data": {
      "text/plain": [
       "array([0, 1, 2, 3, 4, 5, 6, 7, 8, 9], dtype=int32)"
      ]
     },
     "execution_count": 9,
     "metadata": {},
     "output_type": "execute_result"
    }
   ],
   "source": [
    "np.unique(flabels)"
   ]
  },
  {
   "cell_type": "markdown",
   "id": "c9340c5a-71c9-4961-b929-688e8f4b59a5",
   "metadata": {},
   "source": [
    "# Stats"
   ]
  },
  {
   "cell_type": "code",
   "execution_count": 16,
   "id": "f2ebc7e4-383e-472a-8e25-4b8e4495c88a",
   "metadata": {},
   "outputs": [],
   "source": [
    "stats = {}"
   ]
  },
  {
   "cell_type": "code",
   "execution_count": 17,
   "id": "cfcfa6cb-1785-4fff-86c9-bde1f1bf5c88",
   "metadata": {},
   "outputs": [],
   "source": [
    "uni_labels = np.unique(flabels)[1:]\n",
    "stats['FID'] = uni_labels"
   ]
  },
  {
   "cell_type": "markdown",
   "id": "fc0b911e-6ad3-47ee-8a86-123c0d64dc9b",
   "metadata": {},
   "source": [
    "## Simple stat (<Divb^2>)"
   ]
  },
  {
   "cell_type": "code",
   "execution_count": 18,
   "id": "4c9306df-4c71-409c-8586-fc67d8d5d8b2",
   "metadata": {},
   "outputs": [
    {
     "data": {
      "text/plain": [
       "[np.float64(2.1333204661711885e-14),\n",
       " np.float64(8.636720066656403e-14),\n",
       " np.float64(2.856011945417363e-14),\n",
       " np.float64(2.496076959335379e-14),\n",
       " np.float64(1.6131827183752875e-14),\n",
       " np.float64(1.9997160394594204e-14),\n",
       " np.float64(1.748580121842258e-14),\n",
       " np.float64(2.3162359135239477e-14),\n",
       " np.float64(1.8431564713223905e-14)]"
      ]
     },
     "execution_count": 18,
     "metadata": {},
     "output_type": "execute_result"
    }
   ],
   "source": [
    "avg_Divb2 = []\n",
    "for ss in uni_labels:\n",
    "    ipix = flabels == ss\n",
    "    stat = np.sum(ipix * Divb2) / np.sum(ipix)\n",
    "    # Save\n",
    "    avg_Divb2.append(stat)\n",
    "# \n",
    "stats['avg_Divb2'] = avg_Divb2\n",
    "avg_Divb2"
   ]
  },
  {
   "cell_type": "code",
   "execution_count": 19,
   "id": "81263ac6-7e2e-48bd-918f-0ffafbc3e01c",
   "metadata": {},
   "outputs": [],
   "source": [
    "stats['UID'] = [idx]*uni_labels.size"
   ]
  },
  {
   "cell_type": "markdown",
   "id": "df633079-76bb-4409-b4d9-341ff87ec35f",
   "metadata": {},
   "source": [
    "# Length"
   ]
  },
  {
   "cell_type": "markdown",
   "id": "e0998bf8-304c-4b09-a563-9ec3b643b1a7",
   "metadata": {},
   "source": [
    "# Construct a Table"
   ]
  },
  {
   "cell_type": "code",
   "execution_count": 20,
   "id": "9d9a221e-cc98-4877-a35f-a210107c4d36",
   "metadata": {},
   "outputs": [
    {
     "data": {
      "text/html": [
       "<div>\n",
       "<style scoped>\n",
       "    .dataframe tbody tr th:only-of-type {\n",
       "        vertical-align: middle;\n",
       "    }\n",
       "\n",
       "    .dataframe tbody tr th {\n",
       "        vertical-align: top;\n",
       "    }\n",
       "\n",
       "    .dataframe thead th {\n",
       "        text-align: right;\n",
       "    }\n",
       "</style>\n",
       "<table border=\"1\" class=\"dataframe\">\n",
       "  <thead>\n",
       "    <tr style=\"text-align: right;\">\n",
       "      <th></th>\n",
       "      <th>FID</th>\n",
       "      <th>avg_Divb2</th>\n",
       "      <th>UID</th>\n",
       "    </tr>\n",
       "  </thead>\n",
       "  <tbody>\n",
       "    <tr>\n",
       "      <th>0</th>\n",
       "      <td>1</td>\n",
       "      <td>2.133320e-14</td>\n",
       "      <td>500</td>\n",
       "    </tr>\n",
       "    <tr>\n",
       "      <th>1</th>\n",
       "      <td>2</td>\n",
       "      <td>8.636720e-14</td>\n",
       "      <td>500</td>\n",
       "    </tr>\n",
       "    <tr>\n",
       "      <th>2</th>\n",
       "      <td>3</td>\n",
       "      <td>2.856012e-14</td>\n",
       "      <td>500</td>\n",
       "    </tr>\n",
       "    <tr>\n",
       "      <th>3</th>\n",
       "      <td>4</td>\n",
       "      <td>2.496077e-14</td>\n",
       "      <td>500</td>\n",
       "    </tr>\n",
       "    <tr>\n",
       "      <th>4</th>\n",
       "      <td>5</td>\n",
       "      <td>1.613183e-14</td>\n",
       "      <td>500</td>\n",
       "    </tr>\n",
       "    <tr>\n",
       "      <th>5</th>\n",
       "      <td>6</td>\n",
       "      <td>1.999716e-14</td>\n",
       "      <td>500</td>\n",
       "    </tr>\n",
       "    <tr>\n",
       "      <th>6</th>\n",
       "      <td>7</td>\n",
       "      <td>1.748580e-14</td>\n",
       "      <td>500</td>\n",
       "    </tr>\n",
       "    <tr>\n",
       "      <th>7</th>\n",
       "      <td>8</td>\n",
       "      <td>2.316236e-14</td>\n",
       "      <td>500</td>\n",
       "    </tr>\n",
       "    <tr>\n",
       "      <th>8</th>\n",
       "      <td>9</td>\n",
       "      <td>1.843156e-14</td>\n",
       "      <td>500</td>\n",
       "    </tr>\n",
       "  </tbody>\n",
       "</table>\n",
       "</div>"
      ],
      "text/plain": [
       "   FID     avg_Divb2  UID\n",
       "0    1  2.133320e-14  500\n",
       "1    2  8.636720e-14  500\n",
       "2    3  2.856012e-14  500\n",
       "3    4  2.496077e-14  500\n",
       "4    5  1.613183e-14  500\n",
       "5    6  1.999716e-14  500\n",
       "6    7  1.748580e-14  500\n",
       "7    8  2.316236e-14  500\n",
       "8    9  1.843156e-14  500"
      ]
     },
     "execution_count": 20,
     "metadata": {},
     "output_type": "execute_result"
    }
   ],
   "source": [
    "df = pandas.DataFrame(stats)\n",
    "df"
   ]
  },
  {
   "cell_type": "code",
   "execution_count": 24,
   "id": "e94f270b-c452-4356-acca-c870842faba4",
   "metadata": {},
   "outputs": [
    {
     "data": {
      "text/html": [
       "<div>\n",
       "<style scoped>\n",
       "    .dataframe tbody tr th:only-of-type {\n",
       "        vertical-align: middle;\n",
       "    }\n",
       "\n",
       "    .dataframe tbody tr th {\n",
       "        vertical-align: top;\n",
       "    }\n",
       "\n",
       "    .dataframe thead th {\n",
       "        text-align: right;\n",
       "    }\n",
       "</style>\n",
       "<table border=\"1\" class=\"dataframe\">\n",
       "  <thead>\n",
       "    <tr style=\"text-align: right;\">\n",
       "      <th></th>\n",
       "      <th>FID</th>\n",
       "      <th>avg_Divb2</th>\n",
       "      <th>UID</th>\n",
       "    </tr>\n",
       "  </thead>\n",
       "  <tbody>\n",
       "    <tr>\n",
       "      <th>0</th>\n",
       "      <td>1</td>\n",
       "      <td>2.133320e-14</td>\n",
       "      <td>500</td>\n",
       "    </tr>\n",
       "    <tr>\n",
       "      <th>1</th>\n",
       "      <td>2</td>\n",
       "      <td>8.636720e-14</td>\n",
       "      <td>500</td>\n",
       "    </tr>\n",
       "    <tr>\n",
       "      <th>2</th>\n",
       "      <td>3</td>\n",
       "      <td>2.856012e-14</td>\n",
       "      <td>500</td>\n",
       "    </tr>\n",
       "    <tr>\n",
       "      <th>3</th>\n",
       "      <td>4</td>\n",
       "      <td>2.496077e-14</td>\n",
       "      <td>500</td>\n",
       "    </tr>\n",
       "    <tr>\n",
       "      <th>4</th>\n",
       "      <td>5</td>\n",
       "      <td>1.613183e-14</td>\n",
       "      <td>500</td>\n",
       "    </tr>\n",
       "    <tr>\n",
       "      <th>5</th>\n",
       "      <td>6</td>\n",
       "      <td>1.999716e-14</td>\n",
       "      <td>500</td>\n",
       "    </tr>\n",
       "    <tr>\n",
       "      <th>6</th>\n",
       "      <td>7</td>\n",
       "      <td>1.748580e-14</td>\n",
       "      <td>500</td>\n",
       "    </tr>\n",
       "    <tr>\n",
       "      <th>7</th>\n",
       "      <td>8</td>\n",
       "      <td>2.316236e-14</td>\n",
       "      <td>500</td>\n",
       "    </tr>\n",
       "    <tr>\n",
       "      <th>8</th>\n",
       "      <td>9</td>\n",
       "      <td>1.843156e-14</td>\n",
       "      <td>500</td>\n",
       "    </tr>\n",
       "    <tr>\n",
       "      <th>9</th>\n",
       "      <td>1</td>\n",
       "      <td>2.133320e-14</td>\n",
       "      <td>500</td>\n",
       "    </tr>\n",
       "    <tr>\n",
       "      <th>10</th>\n",
       "      <td>2</td>\n",
       "      <td>8.636720e-14</td>\n",
       "      <td>500</td>\n",
       "    </tr>\n",
       "    <tr>\n",
       "      <th>11</th>\n",
       "      <td>3</td>\n",
       "      <td>2.856012e-14</td>\n",
       "      <td>500</td>\n",
       "    </tr>\n",
       "    <tr>\n",
       "      <th>12</th>\n",
       "      <td>4</td>\n",
       "      <td>2.496077e-14</td>\n",
       "      <td>500</td>\n",
       "    </tr>\n",
       "    <tr>\n",
       "      <th>13</th>\n",
       "      <td>5</td>\n",
       "      <td>1.613183e-14</td>\n",
       "      <td>500</td>\n",
       "    </tr>\n",
       "    <tr>\n",
       "      <th>14</th>\n",
       "      <td>6</td>\n",
       "      <td>1.999716e-14</td>\n",
       "      <td>500</td>\n",
       "    </tr>\n",
       "    <tr>\n",
       "      <th>15</th>\n",
       "      <td>7</td>\n",
       "      <td>1.748580e-14</td>\n",
       "      <td>500</td>\n",
       "    </tr>\n",
       "    <tr>\n",
       "      <th>16</th>\n",
       "      <td>8</td>\n",
       "      <td>2.316236e-14</td>\n",
       "      <td>500</td>\n",
       "    </tr>\n",
       "    <tr>\n",
       "      <th>17</th>\n",
       "      <td>9</td>\n",
       "      <td>1.843156e-14</td>\n",
       "      <td>500</td>\n",
       "    </tr>\n",
       "  </tbody>\n",
       "</table>\n",
       "</div>"
      ],
      "text/plain": [
       "    FID     avg_Divb2  UID\n",
       "0     1  2.133320e-14  500\n",
       "1     2  8.636720e-14  500\n",
       "2     3  2.856012e-14  500\n",
       "3     4  2.496077e-14  500\n",
       "4     5  1.613183e-14  500\n",
       "5     6  1.999716e-14  500\n",
       "6     7  1.748580e-14  500\n",
       "7     8  2.316236e-14  500\n",
       "8     9  1.843156e-14  500\n",
       "9     1  2.133320e-14  500\n",
       "10    2  8.636720e-14  500\n",
       "11    3  2.856012e-14  500\n",
       "12    4  2.496077e-14  500\n",
       "13    5  1.613183e-14  500\n",
       "14    6  1.999716e-14  500\n",
       "15    7  1.748580e-14  500\n",
       "16    8  2.316236e-14  500\n",
       "17    9  1.843156e-14  500"
      ]
     },
     "execution_count": 24,
     "metadata": {},
     "output_type": "execute_result"
    }
   ],
   "source": [
    "df2 = pandas.DataFrame(stats)\n",
    "df3 = pandas.concat([df, df2], ignore_index=True)\n",
    "df3"
   ]
  },
  {
   "cell_type": "code",
   "execution_count": null,
   "id": "2a632192-224e-44fb-9979-d297b3af3feb",
   "metadata": {},
   "outputs": [],
   "source": []
  }
 ],
 "metadata": {
  "kernelspec": {
   "display_name": "Python 3 (ipykernel)",
   "language": "python",
   "name": "python3"
  },
  "language_info": {
   "codemirror_mode": {
    "name": "ipython",
    "version": 3
   },
   "file_extension": ".py",
   "mimetype": "text/x-python",
   "name": "python",
   "nbconvert_exporter": "python",
   "pygments_lexer": "ipython3",
   "version": "3.12.2"
  }
 },
 "nbformat": 4,
 "nbformat_minor": 5
}
